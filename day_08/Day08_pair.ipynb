{
 "cells": [
  {
   "cell_type": "code",
   "execution_count": 61,
   "metadata": {
    "collapsed": false
   },
   "outputs": [
    {
     "ename": "IndentationError",
     "evalue": "expected an indented block (<ipython-input-61-f66d6651d4c0>, line 17)",
     "output_type": "error",
     "traceback": [
      "\u001b[1;36m  File \u001b[1;32m\"<ipython-input-61-f66d6651d4c0>\"\u001b[1;36m, line \u001b[1;32m17\u001b[0m\n\u001b[1;33m    encryptedmessage=''\u001b[0m\n\u001b[1;37m                   ^\u001b[0m\n\u001b[1;31mIndentationError\u001b[0m\u001b[1;31m:\u001b[0m expected an indented block\n"
     ]
    }
   ],
   "source": [
    "ListOfUpper=range(ord('A'),ord('Z')+1)\n",
    "ListOfLower=range(ord('a'),ord('z')+1)\n",
    "\n",
    "def ChiperedChar(char,num):\n",
    "    if ord(char) in ListOfUpper:\n",
    "        i=aList.index( ord(char) ) \n",
    "        jIndex = (i + num) % len(ListOfUpper)\n",
    "        return chr(ListOfUpper[jIndex])\n",
    "    elif ord(char) in ListOfLower:\n",
    "        i=aList.index( ord(char) ) \n",
    "        jIndex = (i + num) % len(ListOfLower)\n",
    "        return chr(ListOfLower[jIndex])\n",
    "    else:\n",
    "        return char\n",
    "\n",
    "def caesar_encrypt(message, num):\n",
    "encryptedmessag=''\n",
    "    for char in message:\n",
    "        encryptedmessage=encryptedmessage+ChiperedChar(char,num)\n",
    "return encryptedmessage\n",
    "        \n",
    "        \n",
    "    "
   ]
  },
  {
   "cell_type": "code",
   "execution_count": null,
   "metadata": {
    "collapsed": true
   },
   "outputs": [],
   "source": []
  }
 ],
 "metadata": {
  "kernelspec": {
   "display_name": "Python 2",
   "language": "python",
   "name": "python2"
  },
  "language_info": {
   "codemirror_mode": {
    "name": "ipython",
    "version": 2
   },
   "file_extension": ".py",
   "mimetype": "text/x-python",
   "name": "python",
   "nbconvert_exporter": "python",
   "pygments_lexer": "ipython2",
   "version": "2.7.11"
  }
 },
 "nbformat": 4,
 "nbformat_minor": 0
}
