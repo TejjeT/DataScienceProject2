{
 "cells": [
  {
   "cell_type": "code",
   "execution_count": null,
   "metadata": {
    "collapsed": true
   },
   "outputs": [],
   "source": [
    "import numpy as np\n",
    "import pandas as pd\n",
    "import matplotlib.pyplot as plt\n",
    "import numpy.linalg as nla\n",
    "\n",
    "# display graphics in the browser window\n",
    "%matplotlib inline"
   ]
  },
  {
   "cell_type": "markdown",
   "metadata": {},
   "source": [
    "### Few bits of Notebook-Fu"
   ]
  },
  {
   "cell_type": "markdown",
   "metadata": {},
   "source": [
    "Pressed Control-M and then 3 ..."
   ]
  },
  {
   "cell_type": "markdown",
   "metadata": {},
   "source": [
    "I'm some $\\LaTeX$ or $y=\\beta_1 x + \\beta_0$\n",
    "\n",
    "Or:\n",
    "$$\n",
    "\\begin{align}\n",
    "y &= x \\\\\n",
    "y &= e^x\n",
    "\\end{align}\n",
    "$$"
   ]
  },
  {
   "cell_type": "markdown",
   "metadata": {},
   "source": [
    "Some html"
   ]
  },
  {
   "cell_type": "markdown",
   "metadata": {},
   "source": [
    "Control-m followed by m ... gives me a text/markdown cell\n",
    "\n",
    "print \"hello\"\n",
    "\n",
    "Raw html:  <font color=\"red\">HELLO WORLD</font>\n",
    "\n",
    "And markdown:  [a website I like](http://www.slashdot.org).\n",
    "\n",
    "### Title 3\n",
    "#### Title 4\n",
    "###### Title 5\n",
    "\n",
    "Lists:\n",
    "\n",
    "  * list 1\n",
    "  * list 2\n",
    "  * list 3\n",
    "  \n",
    "Numbered list:\n",
    "  1.  one\n",
    "  1.  two\n",
    "  1.  three"
   ]
  },
  {
   "cell_type": "markdown",
   "metadata": {},
   "source": [
    "### Some Old School Linear Regression"
   ]
  },
  {
   "cell_type": "code",
   "execution_count": null,
   "metadata": {
    "collapsed": false
   },
   "outputs": [],
   "source": [
    "# CONTROL-m followed by l (ell) gives line numbers in cell\n",
    "n_obs = 100\n",
    "n_ftr = 1\n",
    "def f(x):\n",
    "    return 1 + np.dot(x, 2**np.arange(1,n_ftr+1))\n",
    "\n",
    "X = np.random.uniform(0,10,(n_obs,n_ftr))\n",
    "noise = np.random.normal(0.0, 2.0, n_obs)\n",
    "\n",
    "Y = f(X) + noise\n",
    "\n",
    "plt.scatter(X,Y,color='r')\n",
    "plt.plot(X,f(X), 'b')"
   ]
  },
  {
   "cell_type": "code",
   "execution_count": null,
   "metadata": {
    "collapsed": false
   },
   "outputs": [],
   "source": [
    "beta_hat_a = np.ones(n_ftr+1)\n",
    "#beta_hat_b = (np.arange(n_ftr+1)+1.0) * 2\n",
    "\n",
    "plt.scatter(X,Y,color='r')\n",
    "pred_a = beta_hat_a[0] + np.dot(X,beta_hat_a[1:])\n",
    "\n",
    "plt.plot(X,pred_a, 'b')"
   ]
  },
  {
   "cell_type": "code",
   "execution_count": null,
   "metadata": {
    "collapsed": false
   },
   "outputs": [],
   "source": [
    "errors_a = Y - pred_a\n",
    "print errors_a.sum()\n",
    "print np.dot(errors_a, errors_a)"
   ]
  },
  {
   "cell_type": "code",
   "execution_count": null,
   "metadata": {
    "collapsed": false
   },
   "outputs": [],
   "source": [
    "D = np.hstack((np.ones((n_obs, 1)), X))\n",
    "mle_betas = nla.lstsq(D,Y)[0]\n",
    "print mle_betas"
   ]
  },
  {
   "cell_type": "code",
   "execution_count": null,
   "metadata": {
    "collapsed": false
   },
   "outputs": [],
   "source": [
    "plt.scatter(X,Y,color='r')\n",
    "pred_mle = mle_betas[0] + np.dot(X, mle_betas[1:])\n",
    "plt.plot(X, pred_mle,'b')\n",
    "plt.plot(X,f(X), 'g')"
   ]
  },
  {
   "cell_type": "code",
   "execution_count": null,
   "metadata": {
    "collapsed": false
   },
   "outputs": [],
   "source": [
    "errors_mle = Y - pred_mle\n",
    "print np.dot(errors_mle, errors_mle)"
   ]
  },
  {
   "cell_type": "markdown",
   "metadata": {},
   "source": [
    "### Get to 2010 (or so) get to some pandas"
   ]
  },
  {
   "cell_type": "code",
   "execution_count": null,
   "metadata": {
    "collapsed": true
   },
   "outputs": [],
   "source": [
    "heights = pd.Series([86.1, 65.7, 167])\n",
    "weights = pd.Series([180, 167, 127])\n",
    "\n",
    "appointments = pd.Series([pd.datetime(2012, 10, 5),\n",
    "                        pd.datetime(2009, 5, 11),\n",
    "                        pd.datetime(2007, 8, 18)])\n",
    "names = pd.Series([\"Mark\", \"Barb\", \"Ethan\"])"
   ]
  },
  {
   "cell_type": "code",
   "execution_count": null,
   "metadata": {
    "collapsed": false
   },
   "outputs": [],
   "source": [
    "appointments"
   ]
  },
  {
   "cell_type": "code",
   "execution_count": null,
   "metadata": {
    "collapsed": false
   },
   "outputs": [],
   "source": [
    "weights = pd.Series([86.1, 65.7, 29.45], \n",
    "                    index=['Mark', 'Barb', 'Ethan'])\n",
    "print weights"
   ]
  },
  {
   "cell_type": "code",
   "execution_count": null,
   "metadata": {
    "collapsed": false
   },
   "outputs": [],
   "source": [
    "heights = pd.Series([180, 167, 127], index=names)\n",
    "print heights"
   ]
  },
  {
   "cell_type": "code",
   "execution_count": null,
   "metadata": {
    "collapsed": false
   },
   "outputs": [],
   "source": [
    "df = pd.DataFrame({\"weight\":weights, \"height\":heights})\n",
    "df"
   ]
  },
  {
   "cell_type": "code",
   "execution_count": null,
   "metadata": {
    "collapsed": true
   },
   "outputs": [],
   "source": [
    "bmis = df['weight'] / (df['height']/100.0)**2"
   ]
  },
  {
   "cell_type": "code",
   "execution_count": null,
   "metadata": {
    "collapsed": false
   },
   "outputs": [],
   "source": [
    "bmis"
   ]
  },
  {
   "cell_type": "code",
   "execution_count": null,
   "metadata": {
    "collapsed": false
   },
   "outputs": [],
   "source": [
    "df['BMI'] = bmis\n",
    "df"
   ]
  },
  {
   "cell_type": "code",
   "execution_count": null,
   "metadata": {
    "collapsed": true
   },
   "outputs": [],
   "source": [
    "# 10 days of 1 minute times\n",
    "baseRange = pd.date_range('2012-01-02', '2012-01-11', freq=\"1min\")\n",
    "# select 9:30AM-4:00PM only\n",
    "dailyRange = baseRange[baseRange.indexer_between_time('9:30','16:00')]\n",
    "tickerPoints = len(dailyRange)"
   ]
  },
  {
   "cell_type": "code",
   "execution_count": null,
   "metadata": {
    "collapsed": true
   },
   "outputs": [],
   "source": [
    "# simulate a random walk from 123.7 \n",
    "tickerData = np.cumsum(np.random.randn(tickerPoints)) + 123.7"
   ]
  },
  {
   "cell_type": "code",
   "execution_count": null,
   "metadata": {
    "collapsed": false
   },
   "outputs": [],
   "source": [
    "# put it together in a DataFrame and graph it\n",
    "testDataFrame = pd.DataFrame({\"ticker\":tickerData}, index = dailyRange)\n",
    "testDataFrame.plot();"
   ]
  },
  {
   "cell_type": "code",
   "execution_count": null,
   "metadata": {
    "collapsed": false
   },
   "outputs": [],
   "source": [
    "print testDataFrame.index.day\n"
   ]
  },
  {
   "cell_type": "code",
   "execution_count": null,
   "metadata": {
    "collapsed": false
   },
   "outputs": [],
   "source": [
    "daily = testDataFrame.groupby(pd.TimeGrouper(freq='D')).aggregate({\"ticker\": {\"open\"  : \"first\",\n",
    "                                                                              \"close\" : \"last\",\n",
    "                                                                              \"high\"  : \"max\",\n",
    "                                                                              \"low\"   : \"min\"}})                                                                        \n",
    "daily"
   ]
  },
  {
   "cell_type": "code",
   "execution_count": null,
   "metadata": {
    "collapsed": false
   },
   "outputs": [],
   "source": [
    "daily.columns = daily.columns.droplevel(0)\n",
    "daily['range'] = daily['high'] - daily['low']\n",
    "daily"
   ]
  },
  {
   "cell_type": "code",
   "execution_count": null,
   "metadata": {
    "collapsed": true
   },
   "outputs": [],
   "source": [
    "# import os\n",
    "# os.getcwd()\n",
    "# os.chdir(\"new/current/dir\")\n",
    "daily.to_excel('daily_data.xlsx')"
   ]
  },
  {
   "cell_type": "code",
   "execution_count": null,
   "metadata": {
    "collapsed": false
   },
   "outputs": [],
   "source": [
    "revived = pd.read_excel('./daily_data.xlsx', 0) # file, sheet num.\n",
    "revived"
   ]
  },
  {
   "cell_type": "code",
   "execution_count": null,
   "metadata": {
    "collapsed": true
   },
   "outputs": [],
   "source": []
  }
 ],
 "metadata": {
  "kernelspec": {
   "display_name": "Python 2",
   "language": "python",
   "name": "python2"
  },
  "language_info": {
   "codemirror_mode": {
    "name": "ipython",
    "version": 2
   },
   "file_extension": ".py",
   "mimetype": "text/x-python",
   "name": "python",
   "nbconvert_exporter": "python",
   "pygments_lexer": "ipython2",
   "version": "2.7.11"
  }
 },
 "nbformat": 4,
 "nbformat_minor": 0
}
