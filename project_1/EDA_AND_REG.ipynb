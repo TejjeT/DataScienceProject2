{
 "cells": [
  {
   "cell_type": "code",
   "execution_count": 69,
   "metadata": {
    "collapsed": true
   },
   "outputs": [],
   "source": [
    "import os\n",
    "import json\n",
    "\n",
    "import collections"
   ]
  },
  {
   "cell_type": "code",
   "execution_count": 59,
   "metadata": {
    "collapsed": false
   },
   "outputs": [],
   "source": [
    "DATA_DIR = os.path.join('data', 'boxofficemojo')\n"
   ]
  },
  {
   "cell_type": "code",
   "execution_count": 60,
   "metadata": {
    "collapsed": false
   },
   "outputs": [],
   "source": [
    "movies=[]\n",
    "movie={}\n",
    "\n",
    "for file in os.listdir(DATA_DIR):\n",
    "    target_file_path = os.path.join(DATA_DIR, file)\n",
    "    with open(target_file_path, 'r') as target_file:\n",
    "        movie = json.load(target_file)\n",
    "    movies.append(movie)"
   ]
  },
  {
   "cell_type": "code",
   "execution_count": 61,
   "metadata": {
    "collapsed": false
   },
   "outputs": [
    {
     "data": {
      "text/plain": [
       "3728"
      ]
     },
     "execution_count": 61,
     "metadata": {},
     "output_type": "execute_result"
    }
   ],
   "source": [
    "len(movies)"
   ]
  },
  {
   "cell_type": "code",
   "execution_count": 102,
   "metadata": {
    "collapsed": false
   },
   "outputs": [
    {
     "data": {
      "text/plain": [
       "{u'alt_title': u'Zoom (2006)',\n",
       " u'director': u'Peter Hewitt',\n",
       " u'domestic_gross': 11989328,\n",
       " u'mojo_slug': u'zoom',\n",
       " u'opening_per_theater': 1803,\n",
       " u'opening_weekend_take': 4510408,\n",
       " u'production_budget': None,\n",
       " u'release_date_limited': None,\n",
       " u'release_date_wide': u'2006-08-11',\n",
       " u'title': u'Zoom',\n",
       " u'widest_release': 2501,\n",
       " u'worldwide_gross': 12506188,\n",
       " u'year': 2006}"
      ]
     },
     "execution_count": 102,
     "metadata": {},
     "output_type": "execute_result"
    }
   ],
   "source": [
    "movie"
   ]
  },
  {
   "cell_type": "code",
   "execution_count": 106,
   "metadata": {
    "collapsed": false
   },
   "outputs": [
    {
     "data": {
      "text/plain": [
       "61"
      ]
     },
     "execution_count": 106,
     "metadata": {},
     "output_type": "execute_result"
    }
   ],
   "source": [
    "movie_years=[]\n",
    "for movie in movies:\n",
    "    movie_years.append(movie['year'])\n",
    "    cnt=collections.Counter()\n",
    "for year in movie_years:\n",
    "    cnt[year] += 1\n",
    "len(cnt.keys())  "
   ]
  },
  {
   "cell_type": "code",
   "execution_count": 86,
   "metadata": {
    "collapsed": false,
    "scrolled": false
   },
   "outputs": [
    {
     "name": "stdout",
     "output_type": "stream",
     "text": [
      "Counter({2013: 308, 2014: 280, 2011: 264, 2012: 257, 2010: 209, 2008: 194, 2009: 192, 2007: 190, 2006: 184, 2005: 164, 2004: 161, 2003: 146, 2002: 132, 2001: 108, 1999: 106, 2000: 99, 1998: 84, 1997: 74, 2015: 53, 1996: 52, 1995: 51, 1993: 39, 1988: 31, 1994: 30, 1989: 29, 1992: 28, 1987: 27, 1990: 24, 1991: 24, 1986: 21, 1983: 19, 1982: 18, 1984: 17, 1980: 14, 1985: 13, 1981: 12, 1979: 9, None: 7, 1970: 6, 1976: 6, 1978: 6, 1969: 4, 1972: 4, 1974: 4, 1977: 4, 1951: 3, 1975: 3, 1956: 2, 1967: 2, 1968: 2, 1971: 2, 1933: 1, 1936: 1, 1937: 1, 1940: 1, 1946: 1, 1950: 1, 1953: 1, 1959: 1, 1960: 1, 1964: 1})\n"
     ]
    }
   ],
   "source": [
    "    from pprint import pprint\n",
    "    pprint(cnt)"
   ]
  },
  {
   "cell_type": "code",
   "execution_count": 107,
   "metadata": {
    "collapsed": false
   },
   "outputs": [
    {
     "data": {
      "text/plain": [
       "(array([  4.00000000e+00,   1.00000000e+00,   7.00000000e+00,\n",
       "          3.00000000e+00,   2.00000000e+01,   7.60000000e+01,\n",
       "          1.81000000e+02,   3.82000000e+02,   1.10000000e+03,\n",
       "          1.94700000e+03]),\n",
       " array([ 1933. ,  1941.2,  1949.4,  1957.6,  1965.8,  1974. ,  1982.2,\n",
       "         1990.4,  1998.6,  2006.8,  2015. ]),\n",
       " <a list of 10 Patch objects>)"
      ]
     },
     "execution_count": 107,
     "metadata": {},
     "output_type": "execute_result"
    },
    {
     "data": {
      "image/png": "[encoded data removed]",
      "text/plain": [
       "<matplotlib.figure.Figure at 0xc2a73c8>"
      ]
     },
     "metadata": {},
     "output_type": "display_data"
    }
   ],
   "source": [
    "%matplotlib inline\n",
    "import matplotlib.pyplot as plt\n",
    "import seaborn as sns\n",
    "while None in movie_years:\n",
    "    movie_years.remove(None)\n",
    "plt.title('Histogram of movies across years')\n",
    "plt.hist(movie_years)"
   ]
  },
  {
   "cell_type": "code",
   "execution_count": 120,
   "metadata": {
    "collapsed": false,
    "scrolled": true
   },
   "outputs": [],
   "source": [
    "import math\n",
    "domestic_gross=[]\n",
    "for movie in movies:\n",
    "    if movie['domestic_gross'] is not None:\n",
    "        domestic_gross.append(math.log((movie['domestic_gross'])))"
   ]
  },
  {
   "cell_type": "code",
   "execution_count": 121,
   "metadata": {
    "collapsed": false
   },
   "outputs": [
    {
     "data": {
      "text/plain": [
       "(array([    3.,    15.,    90.,   215.,   353.,   410.,   449.,   783.,\n",
       "         1188.,   147.]),\n",
       " array([  4.27666612,   5.89394918,   7.51123223,   9.12851529,\n",
       "         10.74579835,  12.36308141,  13.98036447,  15.59764752,\n",
       "         17.21493058,  18.83221364,  20.4494967 ]),\n",
       " <a list of 10 Patch objects>)"
      ]
     },
     "execution_count": 121,
     "metadata": {},
     "output_type": "execute_result"
    },
    {
     "data": {
      "image/png": "[encoded data removed]",
      "text/plain": [
       "<matplotlib.figure.Figure at 0xc250080>"
      ]
     },
     "metadata": {},
     "output_type": "display_data"
    }
   ],
   "source": [
    "plt.title('Histogram of domestic gross of movies')\n",
    "plt.hist(domestic_gross)"
   ]
  },
  {
   "cell_type": "code",
   "execution_count": 123,
   "metadata": {
    "collapsed": false
   },
   "outputs": [
    {
     "data": {
      "text/plain": [
       "(array([  6.66000000e+02,   1.87400000e+03,   8.71000000e+02,\n",
       "          2.12000000e+02,   8.00000000e+01,   1.80000000e+01,\n",
       "          3.00000000e+00,   1.00000000e+00,   1.00000000e+00,\n",
       "          2.00000000e+00]),\n",
       " array([  0. ,   8.2,  16.4,  24.6,  32.8,  41. ,  49.2,  57.4,  65.6,\n",
       "         73.8,  82. ]),\n",
       " <a list of 10 Patch objects>)"
      ]
     },
     "execution_count": 123,
     "metadata": {},
     "output_type": "execute_result"
    },
    {
     "data": {
      "image/png": "[encoded data removed]",
      "text/plain": [
       "<matplotlib.figure.Figure at 0xd330cc0>"
      ]
     },
     "metadata": {},
     "output_type": "display_data"
    }
   ],
   "source": [
    "import math\n",
    "title_lengths=[]\n",
    "for movie in movies:\n",
    "    title_lengths.append(len(movie['title']))\n",
    "plt.title('Histogram of domestic gross of movies')\n",
    "plt.xlabel('Title lengths')\n",
    "plt.ylabel('Bin Size')\n",
    "plt.hist(title_lengths)"
   ]
  },
  {
   "cell_type": "code",
   "execution_count": 126,
   "metadata": {
    "collapsed": false
   },
   "outputs": [
    {
     "data": {
      "text/plain": [
       "<matplotlib.axes._subplots.AxesSubplot at 0xd6a9eb8>"
      ]
     },
     "execution_count": 126,
     "metadata": {},
     "output_type": "execute_result"
    },
    {
     "data": {
      "image/png": "[encoded data removed]",
      "text/plain": [
       "<matplotlib.figure.Figure at 0xd884780>"
      ]
     },
     "metadata": {},
     "output_type": "display_data"
    }
   ],
   "source": [
    "import pandas as pd\n",
    "movies_df = pd.DataFrame(movies)\n",
    "\n",
    "recent_movies = movies_df[movies_df['year']>=1990]\n",
    "\n",
    "recent_movies['year'].hist()"
   ]
  },
  {
   "cell_type": "code",
   "execution_count": 158,
   "metadata": {
    "collapsed": false
   },
   "outputs": [
    {
     "data": {
      "text/plain": [
       "(0, 250000000)"
      ]
     },
     "execution_count": 158,
     "metadata": {},
     "output_type": "execute_result"
    },
    {
     "data": {
      "image/png": "[encoded data removed]",
      "text/plain": [
       "<matplotlib.figure.Figure at 0x11bb6d68>"
      ]
     },
     "metadata": {},
     "output_type": "display_data"
    }
   ],
   "source": [
    "\n",
    "recent_movies.boxplot(column= 'domestic_gross',by='year',figsize =(20,15)).set_ylim(0,250000000)"
   ]
  },
  {
   "cell_type": "code",
   "execution_count": 135,
   "metadata": {
    "collapsed": false
   },
   "outputs": [
    {
     "data": {
      "text/html": [
       "<div>\n",
       "<table border=\"1\" class=\"dataframe\">\n",
       "  <thead>\n",
       "    <tr style=\"text-align: right;\">\n",
       "      <th></th>\n",
       "      <th>alt_title</th>\n",
       "      <th>director</th>\n",
       "      <th>domestic_gross</th>\n",
       "      <th>mojo_slug</th>\n",
       "      <th>opening_per_theater</th>\n",
       "      <th>opening_weekend_take</th>\n",
       "      <th>production_budget</th>\n",
       "      <th>release_date_limited</th>\n",
       "      <th>release_date_wide</th>\n",
       "      <th>title</th>\n",
       "      <th>widest_release</th>\n",
       "      <th>worldwide_gross</th>\n",
       "      <th>year</th>\n",
       "    </tr>\n",
       "  </thead>\n",
       "  <tbody>\n",
       "    <tr>\n",
       "      <th>0</th>\n",
       "      <td>10,000 B.C. (2008)</td>\n",
       "      <td>Roland Emmerich</td>\n",
       "      <td>94784201.0</td>\n",
       "      <td>10000bc</td>\n",
       "      <td>10518.0</td>\n",
       "      <td>35867488.0</td>\n",
       "      <td>105000000.0</td>\n",
       "      <td>None</td>\n",
       "      <td>2008-03-07</td>\n",
       "      <td>10,000 B.C.</td>\n",
       "      <td>3454.0</td>\n",
       "      <td>269784201.0</td>\n",
       "      <td>2008.0</td>\n",
       "    </tr>\n",
       "    <tr>\n",
       "      <th>1</th>\n",
       "      <td>102 Dalmatians (2000)</td>\n",
       "      <td>None</td>\n",
       "      <td>66957026.0</td>\n",
       "      <td>102dalmatians</td>\n",
       "      <td>7353.0</td>\n",
       "      <td>19883351.0</td>\n",
       "      <td>85000000.0</td>\n",
       "      <td>None</td>\n",
       "      <td>2000-11-22</td>\n",
       "      <td>102 Dalmatians</td>\n",
       "      <td>2704.0</td>\n",
       "      <td>183611771.0</td>\n",
       "      <td>2000.0</td>\n",
       "    </tr>\n",
       "    <tr>\n",
       "      <th>2</th>\n",
       "      <td>10 Things I Hate About You (1999)</td>\n",
       "      <td>None</td>\n",
       "      <td>38178166.0</td>\n",
       "      <td>10thingsihateaboutyou</td>\n",
       "      <td>3668.0</td>\n",
       "      <td>8330681.0</td>\n",
       "      <td>30000000.0</td>\n",
       "      <td>None</td>\n",
       "      <td>1999-03-31</td>\n",
       "      <td>10 Things I Hate About You</td>\n",
       "      <td>2311.0</td>\n",
       "      <td>53478166.0</td>\n",
       "      <td>1999.0</td>\n",
       "    </tr>\n",
       "    <tr>\n",
       "      <th>3</th>\n",
       "      <td>10 Years (2012)</td>\n",
       "      <td>Jamie Linden</td>\n",
       "      <td>203373.0</td>\n",
       "      <td>10years</td>\n",
       "      <td>7569.0</td>\n",
       "      <td>22707.0</td>\n",
       "      <td>NaN</td>\n",
       "      <td>None</td>\n",
       "      <td>2012-09-14</td>\n",
       "      <td>10 Years</td>\n",
       "      <td>63.0</td>\n",
       "      <td>203373.0</td>\n",
       "      <td>2012.0</td>\n",
       "    </tr>\n",
       "    <tr>\n",
       "      <th>4</th>\n",
       "      <td>11 Flowers (2013)</td>\n",
       "      <td>None</td>\n",
       "      <td>9213.0</td>\n",
       "      <td>11flowers</td>\n",
       "      <td>1758.0</td>\n",
       "      <td>3516.0</td>\n",
       "      <td>NaN</td>\n",
       "      <td>None</td>\n",
       "      <td>2013-02-22</td>\n",
       "      <td>11 Flowers</td>\n",
       "      <td>2.0</td>\n",
       "      <td>NaN</td>\n",
       "      <td>2013.0</td>\n",
       "    </tr>\n",
       "  </tbody>\n",
       "</table>\n",
       "</div>"
      ],
      "text/plain": [
       "                           alt_title         director  domestic_gross  \\\n",
       "0                 10,000 B.C. (2008)  Roland Emmerich      94784201.0   \n",
       "1              102 Dalmatians (2000)             None      66957026.0   \n",
       "2  10 Things I Hate About You (1999)             None      38178166.0   \n",
       "3                    10 Years (2012)     Jamie Linden        203373.0   \n",
       "4                  11 Flowers (2013)             None          9213.0   \n",
       "\n",
       "               mojo_slug  opening_per_theater  opening_weekend_take  \\\n",
       "0                10000bc              10518.0            35867488.0   \n",
       "1          102dalmatians               7353.0            19883351.0   \n",
       "2  10thingsihateaboutyou               3668.0             8330681.0   \n",
       "3                10years               7569.0               22707.0   \n",
       "4              11flowers               1758.0                3516.0   \n",
       "\n",
       "   production_budget release_date_limited release_date_wide  \\\n",
       "0        105000000.0                 None        2008-03-07   \n",
       "1         85000000.0                 None        2000-11-22   \n",
       "2         30000000.0                 None        1999-03-31   \n",
       "3                NaN                 None        2012-09-14   \n",
       "4                NaN                 None        2013-02-22   \n",
       "\n",
       "                        title  widest_release  worldwide_gross    year  \n",
       "0                 10,000 B.C.          3454.0      269784201.0  2008.0  \n",
       "1             102 Dalmatians           2704.0      183611771.0  2000.0  \n",
       "2  10 Things I Hate About You          2311.0       53478166.0  1999.0  \n",
       "3                    10 Years            63.0         203373.0  2012.0  \n",
       "4                 11 Flowers              2.0              NaN  2013.0  "
      ]
     },
     "execution_count": 135,
     "metadata": {},
     "output_type": "execute_result"
    }
   ],
   "source": [
    "movies_df.head()\n"
   ]
  },
  {
   "cell_type": "code",
   "execution_count": 136,
   "metadata": {
    "collapsed": false
   },
   "outputs": [
    {
     "data": {
      "text/html": [
       "<div>\n",
       "<table border=\"1\" class=\"dataframe\">\n",
       "  <thead>\n",
       "    <tr style=\"text-align: right;\">\n",
       "      <th></th>\n",
       "      <th>domestic_gross</th>\n",
       "      <th>opening_per_theater</th>\n",
       "      <th>opening_weekend_take</th>\n",
       "      <th>production_budget</th>\n",
       "      <th>widest_release</th>\n",
       "      <th>worldwide_gross</th>\n",
       "      <th>year</th>\n",
       "    </tr>\n",
       "  </thead>\n",
       "  <tbody>\n",
       "    <tr>\n",
       "      <th>count</th>\n",
       "      <td>3.653000e+03</td>\n",
       "      <td>3548.000000</td>\n",
       "      <td>3.548000e+03</td>\n",
       "      <td>1.591000e+03</td>\n",
       "      <td>3576.000000</td>\n",
       "      <td>2.821000e+03</td>\n",
       "      <td>3721.000000</td>\n",
       "    </tr>\n",
       "    <tr>\n",
       "      <th>mean</th>\n",
       "      <td>3.587710e+07</td>\n",
       "      <td>7769.070744</td>\n",
       "      <td>8.919290e+06</td>\n",
       "      <td>4.594223e+07</td>\n",
       "      <td>1359.910794</td>\n",
       "      <td>9.117943e+07</td>\n",
       "      <td>2004.740124</td>\n",
       "    </tr>\n",
       "    <tr>\n",
       "      <th>std</th>\n",
       "      <td>5.660351e+07</td>\n",
       "      <td>8251.101404</td>\n",
       "      <td>1.403204e+07</td>\n",
       "      <td>4.056849e+07</td>\n",
       "      <td>1293.817347</td>\n",
       "      <td>1.489563e+08</td>\n",
       "      <td>9.127232</td>\n",
       "    </tr>\n",
       "    <tr>\n",
       "      <th>min</th>\n",
       "      <td>7.200000e+01</td>\n",
       "      <td>72.000000</td>\n",
       "      <td>7.200000e+01</td>\n",
       "      <td>2.200000e+02</td>\n",
       "      <td>1.000000</td>\n",
       "      <td>7.200000e+01</td>\n",
       "      <td>1933.000000</td>\n",
       "    </tr>\n",
       "    <tr>\n",
       "      <th>25%</th>\n",
       "      <td>6.353250e+05</td>\n",
       "      <td>3212.000000</td>\n",
       "      <td>4.748775e+04</td>\n",
       "      <td>1.675000e+07</td>\n",
       "      <td>52.000000</td>\n",
       "      <td>5.710236e+06</td>\n",
       "      <td>2001.000000</td>\n",
       "    </tr>\n",
       "    <tr>\n",
       "      <th>50%</th>\n",
       "      <td>1.323532e+07</td>\n",
       "      <td>5520.500000</td>\n",
       "      <td>3.334686e+06</td>\n",
       "      <td>3.500000e+07</td>\n",
       "      <td>1074.500000</td>\n",
       "      <td>3.554776e+07</td>\n",
       "      <td>2007.000000</td>\n",
       "    </tr>\n",
       "    <tr>\n",
       "      <th>75%</th>\n",
       "      <td>4.966253e+07</td>\n",
       "      <td>9463.500000</td>\n",
       "      <td>1.268750e+07</td>\n",
       "      <td>6.500000e+07</td>\n",
       "      <td>2584.250000</td>\n",
       "      <td>1.166729e+08</td>\n",
       "      <td>2011.000000</td>\n",
       "    </tr>\n",
       "    <tr>\n",
       "      <th>max</th>\n",
       "      <td>7.605076e+08</td>\n",
       "      <td>204230.000000</td>\n",
       "      <td>1.741446e+08</td>\n",
       "      <td>2.150000e+08</td>\n",
       "      <td>4468.000000</td>\n",
       "      <td>2.787965e+09</td>\n",
       "      <td>2015.000000</td>\n",
       "    </tr>\n",
       "  </tbody>\n",
       "</table>\n",
       "</div>"
      ],
      "text/plain": [
       "       domestic_gross  opening_per_theater  opening_weekend_take  \\\n",
       "count    3.653000e+03          3548.000000          3.548000e+03   \n",
       "mean     3.587710e+07          7769.070744          8.919290e+06   \n",
       "std      5.660351e+07          8251.101404          1.403204e+07   \n",
       "min      7.200000e+01            72.000000          7.200000e+01   \n",
       "25%      6.353250e+05          3212.000000          4.748775e+04   \n",
       "50%      1.323532e+07          5520.500000          3.334686e+06   \n",
       "75%      4.966253e+07          9463.500000          1.268750e+07   \n",
       "max      7.605076e+08        204230.000000          1.741446e+08   \n",
       "\n",
       "       production_budget  widest_release  worldwide_gross         year  \n",
       "count       1.591000e+03     3576.000000     2.821000e+03  3721.000000  \n",
       "mean        4.594223e+07     1359.910794     9.117943e+07  2004.740124  \n",
       "std         4.056849e+07     1293.817347     1.489563e+08     9.127232  \n",
       "min         2.200000e+02        1.000000     7.200000e+01  1933.000000  \n",
       "25%         1.675000e+07       52.000000     5.710236e+06  2001.000000  \n",
       "50%         3.500000e+07     1074.500000     3.554776e+07  2007.000000  \n",
       "75%         6.500000e+07     2584.250000     1.166729e+08  2011.000000  \n",
       "max         2.150000e+08     4468.000000     2.787965e+09  2015.000000  "
      ]
     },
     "execution_count": 136,
     "metadata": {},
     "output_type": "execute_result"
    }
   ],
   "source": [
    "movies_df.describe()"
   ]
  },
  {
   "cell_type": "code",
   "execution_count": 163,
   "metadata": {
    "collapsed": false
   },
   "outputs": [],
   "source": [
    "movies_dropped=movies_df[pd.notnull(movies_df.production_budget)]"
   ]
  },
  {
   "cell_type": "code",
   "execution_count": 164,
   "metadata": {
    "collapsed": false
   },
   "outputs": [
    {
     "data": {
      "text/plain": [
       "1591"
      ]
     },
     "execution_count": 164,
     "metadata": {},
     "output_type": "execute_result"
    }
   ],
   "source": [
    "len(movies_dropped)"
   ]
  },
  {
   "cell_type": "code",
   "execution_count": 181,
   "metadata": {
    "collapsed": false
   },
   "outputs": [
    {
     "data": {
      "image/png": "[encoded data removed]",
      "text/plain": [
       "<matplotlib.figure.Figure at 0x129c2f28>"
      ]
     },
     "metadata": {},
     "output_type": "display_data"
    }
   ],
   "source": [
    "movies_df.plot.scatter('opening_weekend_take','domestic_gross' )"
   ]
  },
  {
   "cell_type": "code",
   "execution_count": 186,
   "metadata": {
    "collapsed": true
   },
   "outputs": [],
   "source": []
  },
  {
   "cell_type": "code",
   "execution_count": 187,
   "metadata": {
    "collapsed": false
   },
   "outputs": [
    {
     "data": {
      "text/plain": [
       "3548"
      ]
     },
     "execution_count": 187,
     "metadata": {},
     "output_type": "execute_result"
    }
   ],
   "source": [
    "len(removednan)"
   ]
  },
  {
   "cell_type": "code",
   "execution_count": 188,
   "metadata": {
    "collapsed": false
   },
   "outputs": [
    {
     "data": {
      "text/plain": [
       "180"
      ]
     },
     "execution_count": 188,
     "metadata": {},
     "output_type": "execute_result"
    }
   ],
   "source": [
    "movies_df.plot.scatter('opening_weekend_take','domestic_gross' )\n",
    "\n",
    "\n",
    "movie_open_domestic=pd.DataFrame()\n",
    "movie_open_domestic['domestic_gross']=movies_df['domestic_gross']\n",
    "movie_open_domestic['opening_weekend_take']=movies_df['opening_weekend_take']\n",
    "length_total=len(movie_open_domestic)\n",
    "length_nonan=len(movie_open_domestic.dropna())\n",
    "num_losing=length_total-length_nonan\n",
    "\n"
   ]
  },
  {
   "cell_type": "code",
   "execution_count": 195,
   "metadata": {
    "collapsed": false
   },
   "outputs": [],
   "source": [
    "\n",
    "movie_open_domestic=pd.DataFrame()\n",
    "movie_open_domestic['domestic_gross']=movies_df['domestic_gross']\n",
    "movie_open_domestic['opening_weekend_take']=movies_df['opening_weekend_take']\n",
    "df=movie_open_domestic.dropna().copy()\n",
    "import statsmodels.api as sm\n",
    "\n",
    "Y = df.domestic_gross\n",
    "X = sm.add_constant(df.opening_weekend_take)\n",
    "\n",
    "linmodel = sm.OLS(Y,X).fit()"
   ]
  },
  {
   "cell_type": "code",
   "execution_count": 196,
   "metadata": {
    "collapsed": false
   },
   "outputs": [
    {
     "data": {
      "text/html": [
       "<table class=\"simpletable\">\n",
       "<caption>OLS Regression Results</caption>\n",
       "<tr>\n",
       "  <th>Dep. Variable:</th>     <td>domestic_gross</td>  <th>  R-squared:         </th> <td>   0.729</td> \n",
       "</tr>\n",
       "<tr>\n",
       "  <th>Model:</th>                   <td>OLS</td>       <th>  Adj. R-squared:    </th> <td>   0.729</td> \n",
       "</tr>\n",
       "<tr>\n",
       "  <th>Method:</th>             <td>Least Squares</td>  <th>  F-statistic:       </th> <td>   9522.</td> \n",
       "</tr>\n",
       "<tr>\n",
       "  <th>Date:</th>             <td>Wed, 11 May 2016</td> <th>  Prob (F-statistic):</th>  <td>  0.00</td>  \n",
       "</tr>\n",
       "<tr>\n",
       "  <th>Time:</th>                 <td>10:57:03</td>     <th>  Log-Likelihood:    </th> <td> -66088.</td> \n",
       "</tr>\n",
       "<tr>\n",
       "  <th>No. Observations:</th>      <td>  3548</td>      <th>  AIC:               </th> <td>1.322e+05</td>\n",
       "</tr>\n",
       "<tr>\n",
       "  <th>Df Residuals:</th>          <td>  3546</td>      <th>  BIC:               </th> <td>1.322e+05</td>\n",
       "</tr>\n",
       "<tr>\n",
       "  <th>Df Model:</th>              <td>     1</td>      <th>                     </th>     <td> </td>    \n",
       "</tr>\n",
       "<tr>\n",
       "  <th>Covariance Type:</th>      <td>nonrobust</td>    <th>                     </th>     <td> </td>    \n",
       "</tr>\n",
       "</table>\n",
       "<table class=\"simpletable\">\n",
       "<tr>\n",
       "            <td></td>              <th>coef</th>     <th>std err</th>      <th>t</th>      <th>P>|t|</th> <th>[95.0% Conf. Int.]</th> \n",
       "</tr>\n",
       "<tr>\n",
       "  <th>const</th>                <td> 5.397e+06</td> <td> 5.92e+05</td> <td>    9.120</td> <td> 0.000</td> <td> 4.24e+06  6.56e+06</td>\n",
       "</tr>\n",
       "<tr>\n",
       "  <th>opening_weekend_take</th> <td>    3.4734</td> <td>    0.036</td> <td>   97.581</td> <td> 0.000</td> <td>    3.404     3.543</td>\n",
       "</tr>\n",
       "</table>\n",
       "<table class=\"simpletable\">\n",
       "<tr>\n",
       "  <th>Omnibus:</th>       <td>4177.673</td> <th>  Durbin-Watson:     </th>  <td>   1.914</td> \n",
       "</tr>\n",
       "<tr>\n",
       "  <th>Prob(Omnibus):</th>  <td> 0.000</td>  <th>  Jarque-Bera (JB):  </th> <td>873313.507</td>\n",
       "</tr>\n",
       "<tr>\n",
       "  <th>Skew:</th>           <td> 5.909</td>  <th>  Prob(JB):          </th>  <td>    0.00</td> \n",
       "</tr>\n",
       "<tr>\n",
       "  <th>Kurtosis:</th>       <td>78.946</td>  <th>  Cond. No.          </th>  <td>1.97e+07</td> \n",
       "</tr>\n",
       "</table>"
      ],
      "text/plain": [
       "<class 'statsmodels.iolib.summary.Summary'>\n",
       "\"\"\"\n",
       "                            OLS Regression Results                            \n",
       "==============================================================================\n",
       "Dep. Variable:         domestic_gross   R-squared:                       0.729\n",
       "Model:                            OLS   Adj. R-squared:                  0.729\n",
       "Method:                 Least Squares   F-statistic:                     9522.\n",
       "Date:                Wed, 11 May 2016   Prob (F-statistic):               0.00\n",
       "Time:                        10:57:03   Log-Likelihood:                -66088.\n",
       "No. Observations:                3548   AIC:                         1.322e+05\n",
       "Df Residuals:                    3546   BIC:                         1.322e+05\n",
       "Df Model:                           1                                         \n",
       "Covariance Type:            nonrobust                                         \n",
       "========================================================================================\n",
       "                           coef    std err          t      P>|t|      [95.0% Conf. Int.]\n",
       "----------------------------------------------------------------------------------------\n",
       "const                 5.397e+06   5.92e+05      9.120      0.000      4.24e+06  6.56e+06\n",
       "opening_weekend_take     3.4734      0.036     97.581      0.000         3.404     3.543\n",
       "==============================================================================\n",
       "Omnibus:                     4177.673   Durbin-Watson:                   1.914\n",
       "Prob(Omnibus):                  0.000   Jarque-Bera (JB):           873313.507\n",
       "Skew:                           5.909   Prob(JB):                         0.00\n",
       "Kurtosis:                      78.946   Cond. No.                     1.97e+07\n",
       "==============================================================================\n",
       "\n",
       "Warnings:\n",
       "[1] Standard Errors assume that the covariance matrix of the errors is correctly specified.\n",
       "[2] The condition number is large, 1.97e+07. This might indicate that there are\n",
       "strong multicollinearity or other numerical problems.\n",
       "\"\"\""
      ]
     },
     "execution_count": 196,
     "metadata": {},
     "output_type": "execute_result"
    }
   ],
   "source": [
    "linmodel.summary()"
   ]
  },
  {
   "cell_type": "code",
   "execution_count": 198,
   "metadata": {
    "collapsed": false,
    "scrolled": false
   },
   "outputs": [
    {
     "data": {
      "text/plain": [
       "<matplotlib.text.Text at 0x141aa588>"
      ]
     },
     "execution_count": 198,
     "metadata": {},
     "output_type": "execute_result"
    },
    {
     "data": {
      "image/png": "[encoded data removed]",
      "text/plain": [
       "<matplotlib.figure.Figure at 0x14124cf8>"
      ]
     },
     "metadata": {},
     "output_type": "display_data"
    }
   ],
   "source": [
    "predicted_gross = linmodel.predict(X)\n",
    "plt.scatter(df.opening_weekend_take, df.domestic_gross, color='gray')\n",
    "plt.plot(df.opening_weekend_take, predicted_gross)\n",
    "plt.title(\"Opening Weekend Based Model for Domestic Gross\")\n",
    "plt.xlabel(\"Opening Weekend Take ($100M)\")\n",
    "plt.ylabel(\"Domestic Gross ($100M)\")"
   ]
  },
  {
   "cell_type": "code",
   "execution_count": 214,
   "metadata": {
    "collapsed": false,
    "scrolled": false
   },
   "outputs": [
    {
     "data": {
      "image/png": "[encoded data removed]",
      "text/plain": [
       "<matplotlib.figure.Figure at 0x164892b0>"
      ]
     },
     "metadata": {},
     "output_type": "display_data"
    }
   ],
   "source": [
    "\n",
    "from statsmodels.sandbox.regression.predstd import wls_prediction_std\n",
    "predicted_gross = linmodel.predict(X)\n",
    "\n",
    "prstd, iv_l, iv_u = wls_prediction_std(linmodel)\n",
    "\n",
    "fig, ax = plt.subplots(figsize=(8,6))\n",
    "\n",
    "ax.plot(X, Y, 'o', label=\"data\")\n",
    "ax.plot(X, linmodel.fittedvalues, 'r--.', label=\"OLS\")\n",
    "ax.plot(X, iv_u, 'r--')\n",
    "ax.plot(X, iv_l, 'r--')\n",
    "ax.legend(loc='best');\n",
    "\n"
   ]
  },
  {
   "cell_type": "code",
   "execution_count": 224,
   "metadata": {
    "collapsed": false
   },
   "outputs": [
    {
     "data": {
      "text/plain": [
       "<matplotlib.text.Text at 0x17a66eb8>"
      ]
     },
     "execution_count": 224,
     "metadata": {},
     "output_type": "execute_result"
    },
    {
     "data": {
      "image/png": "[encoded data removed]",
      "text/plain": [
       "<matplotlib.figure.Figure at 0x17a4c908>"
      ]
     },
     "metadata": {},
     "output_type": "display_data"
    }
   ],
   "source": [
    "predicted_gross = linmodel.predict(X)\n",
    "plt.scatter(predicted_gross, df.domestic_gross-predicted_gross, color='gray')\n",
    "plt.plot([0,0], [10,0])\n",
    "plt.title(\"Opening Weekend Based Model for Domestic Gross\")\n",
    "plt.xlabel(\"Residuals\")\n",
    "plt.ylabel(\"predicted_gross($100M)\")\n",
    "\n"
   ]
  },
  {
   "cell_type": "code",
   "execution_count": null,
   "metadata": {
    "collapsed": true
   },
   "outputs": [],
   "source": []
  }
 ],
 "metadata": {
  "kernelspec": {
   "display_name": "Python 2",
   "language": "python",
   "name": "python2"
  },
  "language_info": {
   "codemirror_mode": {
    "name": "ipython",
    "version": 2
   },
   "file_extension": ".py",
   "mimetype": "text/x-python",
   "name": "python",
   "nbconvert_exporter": "python",
   "pygments_lexer": "ipython2",
   "version": "2.7.11"
  }
 },
 "nbformat": 4,
 "nbformat_minor": 0
}
