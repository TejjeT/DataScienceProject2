{
 "cells": [
  {
   "cell_type": "code",
   "execution_count": 1,
   "metadata": {
    "collapsed": true
   },
   "outputs": [],
   "source": [
    "import os\n",
    "import json"
   ]
  },
  {
   "cell_type": "code",
   "execution_count": 49,
   "metadata": {
    "collapsed": false
   },
   "outputs": [],
   "source": [
    "DATA_DIR = os.path.join('', '../project_1/data/boxofficemojo')DATA_DIR = os.path.join('data', 'boxofficemojo')\n"
   ]
  },
  {
   "cell_type": "code",
   "execution_count": 20,
   "metadata": {
    "collapsed": false
   },
   "outputs": [],
   "source": [
    "movies=[]\n",
    "movie={}\n",
    "\n",
    "for file in os.listdir(DATA_DIR):\n",
    "    target_file_path = os.path.join(DATA_DIR, file)\n",
    "    with open(target_file_path, 'r') as target_file:\n",
    "        movie = json.load(target_file)\n",
    "    movies.append(movie)"
   ]
  },
  {
   "cell_type": "code",
   "execution_count": 21,
   "metadata": {
    "collapsed": false
   },
   "outputs": [
    {
     "data": {
      "text/plain": [
       "3728"
      ]
     },
     "execution_count": 21,
     "metadata": {},
     "output_type": "execute_result"
    }
   ],
   "source": [
    "len(movies)"
   ]
  },
  {
   "cell_type": "code",
   "execution_count": 8,
   "metadata": {
    "collapsed": false
   },
   "outputs": [
    {
     "name": "stdout",
     "output_type": "stream",
     "text": [
      "{u'alt_title': u'Blade Runner (1982)',\n",
      " u'director': u'Ridley Scott',\n",
      " u'domestic_gross': 32868943,\n",
      " u'mojo_slug': u'bladerunner',\n",
      " u'opening_per_theater': 4749,\n",
      " u'opening_weekend_take': 6150002,\n",
      " u'production_budget': None,\n",
      " u'release_date_limited': None,\n",
      " u'release_date_wide': u'1982-06-25',\n",
      " u'title': u'Blade Runner',\n",
      " u'widest_release': 1325,\n",
      " u'worldwide_gross': 32868943,\n",
      " u'year': 1982}\n"
     ]
    }
   ],
   "source": [
    "from pprint import pprint\n",
    "pprint(movie)"
   ]
  }
 ],
 "metadata": {
  "kernelspec": {
   "display_name": "Python 2",
   "language": "python",
   "name": "python2"
  },
  "language_info": {
   "codemirror_mode": {
    "name": "ipython",
    "version": 2
   },
   "file_extension": ".py",
   "mimetype": "text/x-python",
   "name": "python",
   "nbconvert_exporter": "python",
   "pygments_lexer": "ipython2",
   "version": "2.7.11"
  }
 },
 "nbformat": 4,
 "nbformat_minor": 0
}
