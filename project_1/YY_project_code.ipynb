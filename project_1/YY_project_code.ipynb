{
 "cells": [
  {
   "cell_type": "code",
   "execution_count": 89,
   "metadata": {
    "collapsed": false
   },
   "outputs": [],
   "source": [
    "# imports\n",
    "import os\n",
    "import json\n",
    "import pprint\n",
    "import pandas as pd\n",
    "\n",
    "# constants\n",
    "CURRENT_DIR = os.getcwd()\n",
    "DATA_DIR = os.path.abspath(os.path.join(CURRENT_DIR, 'data'))\n",
    "MOJO_DIR = os.path.join(DATA_DIR, 'boxofficemojo')\n",
    "metacritic_DIR = os.path.join(DATA_DIR, 'metacritic')"
   ]
  },
  {
   "cell_type": "markdown",
   "metadata": {},
   "source": [
    "##LOADING DATA"
   ]
  },
  {
   "cell_type": "code",
   "execution_count": 90,
   "metadata": {
    "collapsed": false
   },
   "outputs": [],
   "source": [
    "def load_mojo_data():\n",
    "    file_contents = os.listdir(MOJO_DIR)\n",
    "\n",
    "    movie_dicts_mojo = []\n",
    "\n",
    "    for filename in file_contents:\n",
    "        filepath = os.path.join(MOJO_DIR, filename)\n",
    "\n",
    "        with open(filepath, 'r') as movie_file:\n",
    "            movie_data = json.load(movie_file)\n",
    "\n",
    "        movie_dicts_mojo.append(movie_data)\n",
    "\n",
    "    print \"Parsed %i movies from %i files\" % (len(movie_dicts_mojo),\n",
    "                                              len(file_contents))\n",
    "    return movie_dicts_mojo\n",
    "\n",
    "def load_metacritic_data():\n",
    "    file_contents = os.listdir(metacritic_DIR)\n",
    "\n",
    "    movie_dicts_meta = []\n",
    "\n",
    "    for filename in file_contents:\n",
    "        filepath = os.path.join(metacritic_DIR, filename)\n",
    "        \n",
    "        with open(filepath, 'r') as movie_file:\n",
    "            movie_data = json.load(movie_file)\n",
    "        if type(movie_data)==dict:\n",
    "            movie_dicts_meta.append(movie_data)\n",
    "\n",
    "    print \"Parsed %i movies from %i files\" % (len(movie_dicts_meta),\n",
    "                                              len(file_contents))\n",
    "    return movie_dicts_meta"
   ]
  },
  {
   "cell_type": "code",
   "execution_count": 91,
   "metadata": {
    "collapsed": false
   },
   "outputs": [
    {
     "name": "stdout",
     "output_type": "stream",
     "text": [
      "Parsed 3728 movies from 3728 files\n",
      "Parsed 4765 movies from 4767 files\n"
     ]
    }
   ],
   "source": [
    "#import loaddata\n",
    "#import pandas as pd\n",
    "movie_dicts_mojo = load_mojo_data()\n",
    "movie_df_mojo = pd.DataFrame(movie_dicts_mojo)\n",
    "movie_dicts_meta = load_metacritic_data()\n",
    "movie_df_meta = pd.DataFrame(movie_dicts_meta)"
   ]
  },
  {
   "cell_type": "code",
   "execution_count": 92,
   "metadata": {
    "collapsed": false
   },
   "outputs": [],
   "source": [
    "#clean title\n",
    "\n",
    "#metacric_df2['title']=metacric_df2.title_Upper.str.strip() \n",
    "#movie_df_meta.drop('unable to retrieve', axis=1, inplace=True) \n",
    "#metacric_df1=metacric_df.drop(metacric_df.index[[4764]]) \n",
    "movie_df_meta['title_Upper']=movie_df_meta.title.str.upper() \n",
    "movie_df_meta['title_new']=movie_df_meta.title_Upper.str.replace(r'\\W+','',case=False)\n",
    "movie_df_mojo['title_Upper']=movie_df_mojo.title.str.upper() \n",
    "movie_df_mojo['title_new']=movie_df_mojo.title_Upper.str.replace(r'\\W+','',case=False)"
   ]
  },
  {
   "cell_type": "code",
   "execution_count": 93,
   "metadata": {
    "collapsed": true
   },
   "outputs": [],
   "source": [
    "#clean director\n",
    "movie_df_meta['director_upper']=movie_df_meta.director.str.upper() \n",
    "movie_df_meta['director_new']=movie_df_meta.director_upper.str.replace(r'\\W+','',case=False)\n",
    "movie_df_mojo['director_upper']=movie_df_mojo.director.str.upper() \n",
    "movie_df_mojo['director_new']=movie_df_mojo.director_upper.str.replace(r'\\W+','',case=False)"
   ]
  },
  {
   "cell_type": "code",
   "execution_count": 94,
   "metadata": {
    "collapsed": false
   },
   "outputs": [],
   "source": [
    "\n",
    "#Clean year\n",
    "movie_df_mojo['year']=pd.to_numeric(movie_df_mojo['year'])\n",
    "movie_df_meta['year']=pd.to_numeric(movie_df_meta['year'])"
   ]
  },
  {
   "cell_type": "code",
   "execution_count": 95,
   "metadata": {
    "collapsed": false
   },
   "outputs": [],
   "source": [
    "\n",
    "# Join based on title and Year\n",
    "movie_merge= pd.merge(movie_df_mojo,movie_df_meta, on=['title_new', 'year'], how=\"inner\")"
   ]
  },
  {
   "cell_type": "code",
   "execution_count": 96,
   "metadata": {
    "collapsed": false,
    "scrolled": true
   },
   "outputs": [],
   "source": [
    "#check for duplicates\n",
    "#movie_merge[movie_merge.duplicated(['title_new'])][['director_x','director_new_x','director_y']]\n",
    "# clean_movie_df_dir = movie_df_dir[related_columns].dropna()"
   ]
  },
  {
   "cell_type": "code",
   "execution_count": 97,
   "metadata": {
    "collapsed": false
   },
   "outputs": [],
   "source": [
    "data_description=movie_merge.describe()\n",
    "data_description.to_csv('./data_description.csv')"
   ]
  },
  {
   "cell_type": "code",
   "execution_count": 98,
   "metadata": {
    "collapsed": false
   },
   "outputs": [
    {
     "data": {
      "text/plain": [
       "Index([           u'alt_title',           u'director_x',\n",
       "             u'domestic_gross',            u'mojo_slug',\n",
       "        u'opening_per_theater', u'opening_weekend_take',\n",
       "          u'production_budget', u'release_date_limited',\n",
       "          u'release_date_wide',              u'title_x',\n",
       "             u'widest_release',      u'worldwide_gross',\n",
       "                       u'year',        u'title_Upper_x',\n",
       "                  u'title_new',     u'director_upper_x',\n",
       "             u'director_new_x',             u'complete',\n",
       "                 u'director_y',                u'genre',\n",
       "            u'metacritic_page',            u'metascore',\n",
       "         u'num_critic_reviews',     u'num_user_ratings',\n",
       "           u'num_user_reviews',               u'rating',\n",
       "               u'release_date',      u'runtime_minutes',\n",
       "                     u'studio',              u'title_y',\n",
       "         u'unable to retrieve',           u'user_score',\n",
       "              u'title_Upper_y',     u'director_upper_y',\n",
       "             u'director_new_y'],\n",
       "      dtype='object')"
      ]
     },
     "execution_count": 98,
     "metadata": {},
     "output_type": "execute_result"
    }
   ],
   "source": [
    "movie_merge.columns"
   ]
  },
  {
   "cell_type": "code",
   "execution_count": 99,
   "metadata": {
    "collapsed": false
   },
   "outputs": [],
   "source": [
    "\n",
    "movie_merge1=movie_merge.drop('director_new_x',axis=1)"
   ]
  },
  {
   "cell_type": "code",
   "execution_count": 100,
   "metadata": {
    "collapsed": true
   },
   "outputs": [],
   "source": [
    "movie_merge2=movie_merge1.drop('unable to retrieve',axis=1)"
   ]
  },
  {
   "cell_type": "code",
   "execution_count": 101,
   "metadata": {
    "collapsed": false,
    "scrolled": true
   },
   "outputs": [
    {
     "data": {
      "text/plain": [
       "250"
      ]
     },
     "execution_count": 101,
     "metadata": {},
     "output_type": "execute_result"
    }
   ],
   "source": [
    "len(movie_merge2.release_date_limited.unique())\n"
   ]
  },
  {
   "cell_type": "code",
   "execution_count": 103,
   "metadata": {
    "collapsed": false
   },
   "outputs": [],
   "source": [
    "movie_merge3=movie_merge2.drop('title_Upper_x',axis=1)\n",
    "movie_merge4=movie_merge3.drop('title_Upper_y',axis=1)\n",
    "movie_merge4=movie_merge3.drop('title_Upper_y',axis=1)\n",
    "movie_merge6=movie_merge4.drop('director_upper_x',axis=1)"
   ]
  },
  {
   "cell_type": "code",
   "execution_count": 186,
   "metadata": {
    "collapsed": false
   },
   "outputs": [],
   "source": [
    "movie_merge6['rating']=movie_merge6.rating.str.replace('Not Rated','Unrated')\n",
    "movie_merge6['rating']=movie_merge6.rating.str.replace('PG--13','PG-13')\n",
    "movie_merge6['rating']=movie_merge6.rating.str.replace('TV-14','TV')\n",
    "movie_merge6['rating']=movie_merge6.rating.str.replace('TV-G','TV')\n",
    "movie_merge6['rating']=movie_merge6.rating.str.replace('TV-MA','TV')\n",
    "movie_merge6['rating']=movie_merge6.rating.str.replace('TV-PG','TV')\n",
    "movie_merge6['rating']=movie_merge6.rating.str.replace('TV-Y7','TV')\n",
    "movie_merge6['rating']=movie_merge6.rating.str.replace(r'\\s+( +\\.)|#','Unrated').replace('','Unrated')\n",
    "movie_merge6['rating']=movie_merge6.rating.str.replace('Open','Unrated')\n",
    "movie_merge6['rating']=movie_merge6.rating.str.replace('Approved','PG')\n",
    "movie_merge6['rating']=movie_merge6.rating.str.replace('GP','G')\n",
    "movie_merge6['rating']=movie_merge6.rating.str.replace('M','PG')"
   ]
  },
  {
   "cell_type": "code",
   "execution_count": 187,
   "metadata": {
    "collapsed": true
   },
   "outputs": [],
   "source": [
    "complete_dummies = pd.get_dummies(movie_merge6['complete'])"
   ]
  },
  {
   "cell_type": "code",
   "execution_count": 188,
   "metadata": {
    "collapsed": false
   },
   "outputs": [],
   "source": [
    "movie_merge7=pd.concat([movie_merge6,complete_dummies],axis=1)"
   ]
  },
  {
   "cell_type": "code",
   "execution_count": 189,
   "metadata": {
    "collapsed": false
   },
   "outputs": [
    {
     "data": {
      "text/html": [
       "<div>\n",
       "<table border=\"1\" class=\"dataframe\">\n",
       "  <thead>\n",
       "    <tr style=\"text-align: right;\">\n",
       "      <th>rating</th>\n",
       "      <th>G</th>\n",
       "      <th>NC-17</th>\n",
       "      <th>PG</th>\n",
       "      <th>PG-13</th>\n",
       "      <th>R</th>\n",
       "      <th>TV</th>\n",
       "      <th>Unrated</th>\n",
       "    </tr>\n",
       "    <tr>\n",
       "      <th>complete</th>\n",
       "      <th></th>\n",
       "      <th></th>\n",
       "      <th></th>\n",
       "      <th></th>\n",
       "      <th></th>\n",
       "      <th></th>\n",
       "      <th></th>\n",
       "    </tr>\n",
       "  </thead>\n",
       "  <tbody>\n",
       "    <tr>\n",
       "      <th>False</th>\n",
       "      <td>2</td>\n",
       "      <td>0</td>\n",
       "      <td>14</td>\n",
       "      <td>34</td>\n",
       "      <td>67</td>\n",
       "      <td>1</td>\n",
       "      <td>181</td>\n",
       "    </tr>\n",
       "    <tr>\n",
       "      <th>True</th>\n",
       "      <td>62</td>\n",
       "      <td>27</td>\n",
       "      <td>362</td>\n",
       "      <td>820</td>\n",
       "      <td>1360</td>\n",
       "      <td>73</td>\n",
       "      <td>345</td>\n",
       "    </tr>\n",
       "  </tbody>\n",
       "</table>\n",
       "</div>"
      ],
      "text/plain": [
       "rating     G  NC-17   PG  PG-13     R  TV  Unrated\n",
       "complete                                          \n",
       "False      2      0   14     34    67   1      181\n",
       "True      62     27  362    820  1360  73      345"
      ]
     },
     "execution_count": 189,
     "metadata": {},
     "output_type": "execute_result"
    }
   ],
   "source": [
    "pd.crosstab(movie_merge6.complete,movie_merge6.rating)"
   ]
  },
  {
   "cell_type": "code",
   "execution_count": 190,
   "metadata": {
    "collapsed": true
   },
   "outputs": [],
   "source": [
    "rating_dummies = pd.get_dummies(movie_merge7['rating'])"
   ]
  },
  {
   "cell_type": "code",
   "execution_count": 191,
   "metadata": {
    "collapsed": true
   },
   "outputs": [],
   "source": [
    "movie_merge8=pd.concat([movie_merge7,rating_dummies],axis=1)"
   ]
  },
  {
   "cell_type": "code",
   "execution_count": 194,
   "metadata": {
    "collapsed": false
   },
   "outputs": [
    {
     "data": {
      "text/plain": [
       "alt_title                object\n",
       "director_x               object\n",
       "domestic_gross          float64\n",
       "mojo_slug                object\n",
       "opening_per_theater     float64\n",
       "opening_weekend_take    float64\n",
       "production_budget       float64\n",
       "release_date_limited     object\n",
       "release_date_wide        object\n",
       "title_x                  object\n",
       "widest_release          float64\n",
       "worldwide_gross         float64\n",
       "year                    float64\n",
       "title_new                object\n",
       "complete                 object\n",
       "director_y               object\n",
       "genre                    object\n",
       "metacritic_page          object\n",
       "metascore               float64\n",
       "num_critic_reviews       object\n",
       "num_user_ratings        float64\n",
       "num_user_reviews         object\n",
       "rating                   object\n",
       "release_date             object\n",
       "runtime_minutes         float64\n",
       "studio                   object\n",
       "title_y                  object\n",
       "user_score               object\n",
       "director_new_y           object\n",
       "False                   float64\n",
       "True                    float64\n",
       "G                       float64\n",
       "NC-17                   float64\n",
       "PG                      float64\n",
       "PG-13                   float64\n",
       "R                       float64\n",
       "TV                      float64\n",
       "Unrated                 float64\n",
       "dtype: object"
      ]
     },
     "execution_count": 194,
     "metadata": {},
     "output_type": "execute_result"
    }
   ],
   "source": [
    "movie_merge8.dtypes"
   ]
  },
  {
   "cell_type": "code",
   "execution_count": 196,
   "metadata": {
    "collapsed": false
   },
   "outputs": [
    {
     "data": {
      "text/plain": [
       "0       2008-03-07\n",
       "1       2000-11-22\n",
       "2       1999-03-31\n",
       "3       2012-09-14\n",
       "4       2013-02-22\n",
       "5       2007-08-17\n",
       "6       2011-01-28\n",
       "7       2009-03-27\n",
       "8       2011-04-29\n",
       "9       2004-04-23\n",
       "10      2014-04-18\n",
       "11      1999-08-27\n",
       "12      2006-07-28\n",
       "13      2007-06-22\n",
       "14      2006-03-03\n",
       "15      2009-04-17\n",
       "16      1968-04-03\n",
       "17      2009-11-13\n",
       "18      2012-08-24\n",
       "19      2005-08-05\n",
       "20      2013-06-14\n",
       "21      2008-03-28\n",
       "22      2013-03-01\n",
       "23      2003-11-21\n",
       "24      2012-03-16\n",
       "25      2002-12-19\n",
       "26      2008-01-18\n",
       "27      2000-04-14\n",
       "28      2003-06-27\n",
       "29      2007-05-11\n",
       "           ...    \n",
       "3318    2008-12-19\n",
       "3319    2004-09-24\n",
       "3320    2010-12-17\n",
       "3321    2013-01-25\n",
       "3322    2010-09-24\n",
       "3323    2000-11-10\n",
       "3324    2008-06-06\n",
       "3325    2004-01-30\n",
       "3326    2007-06-22\n",
       "3327    2006-07-14\n",
       "3328    2011-12-16\n",
       "3329    1988-08-12\n",
       "3330    2009-12-18\n",
       "3331    2013-08-23\n",
       "3332    2011-04-08\n",
       "3333    2012-06-15\n",
       "3334    2005-11-23\n",
       "3335    2010-01-08\n",
       "3336    2012-08-03\n",
       "3337    1998-12-18\n",
       "3338    2013-08-16\n",
       "3339    2014-06-25\n",
       "3340    2008-10-31\n",
       "3341    2013-09-20\n",
       "3342    2014-09-19\n",
       "3343    2015-03-20\n",
       "3344    2009-10-02\n",
       "3345    2011-07-08\n",
       "3346    2001-09-28\n",
       "3347    2006-08-11\n",
       "Name: release_date_wide, dtype: object"
      ]
     },
     "execution_count": 196,
     "metadata": {},
     "output_type": "execute_result"
    }
   ],
   "source": [
    "movie_merge8.release_date_wide"
   ]
  },
  {
   "cell_type": "code",
   "execution_count": 200,
   "metadata": {
    "collapsed": false
   },
   "outputs": [],
   "source": []
  },
  {
   "cell_type": "code",
   "execution_count": 203,
   "metadata": {
    "collapsed": false
   },
   "outputs": [],
   "source": []
  },
  {
   "cell_type": "code",
   "execution_count": 204,
   "metadata": {
    "collapsed": true
   },
   "outputs": [],
   "source": []
  },
  {
   "cell_type": "code",
   "execution_count": 205,
   "metadata": {
    "collapsed": false
   },
   "outputs": [
    {
     "data": {
      "text/html": [
       "<div>\n",
       "<table border=\"1\" class=\"dataframe\">\n",
       "  <thead>\n",
       "    <tr style=\"text-align: right;\">\n",
       "      <th></th>\n",
       "      <th>1.0</th>\n",
       "      <th>2.0</th>\n",
       "      <th>3.0</th>\n",
       "      <th>4.0</th>\n",
       "    </tr>\n",
       "  </thead>\n",
       "  <tbody>\n",
       "    <tr>\n",
       "      <th>0</th>\n",
       "      <td>1.0</td>\n",
       "      <td>0.0</td>\n",
       "      <td>0.0</td>\n",
       "      <td>0.0</td>\n",
       "    </tr>\n",
       "    <tr>\n",
       "      <th>1</th>\n",
       "      <td>0.0</td>\n",
       "      <td>0.0</td>\n",
       "      <td>0.0</td>\n",
       "      <td>1.0</td>\n",
       "    </tr>\n",
       "    <tr>\n",
       "      <th>2</th>\n",
       "      <td>1.0</td>\n",
       "      <td>0.0</td>\n",
       "      <td>0.0</td>\n",
       "      <td>0.0</td>\n",
       "    </tr>\n",
       "    <tr>\n",
       "      <th>3</th>\n",
       "      <td>0.0</td>\n",
       "      <td>0.0</td>\n",
       "      <td>1.0</td>\n",
       "      <td>0.0</td>\n",
       "    </tr>\n",
       "    <tr>\n",
       "      <th>4</th>\n",
       "      <td>1.0</td>\n",
       "      <td>0.0</td>\n",
       "      <td>0.0</td>\n",
       "      <td>0.0</td>\n",
       "    </tr>\n",
       "  </tbody>\n",
       "</table>\n",
       "</div>"
      ],
      "text/plain": [
       "   1.0  2.0  3.0  4.0\n",
       "0  1.0  0.0  0.0  0.0\n",
       "1  0.0  0.0  0.0  1.0\n",
       "2  1.0  0.0  0.0  0.0\n",
       "3  0.0  0.0  1.0  0.0\n",
       "4  1.0  0.0  0.0  0.0"
      ]
     },
     "execution_count": 205,
     "metadata": {},
     "output_type": "execute_result"
    }
   ],
   "source": [
    "quarter_dummies.head()"
   ]
  },
  {
   "cell_type": "code",
   "execution_count": 211,
   "metadata": {
    "collapsed": false
   },
   "outputs": [
    {
     "ename": "ValueError",
     "evalue": "You must specify a freq or x must be a pandas object with a timeseries index",
     "output_type": "error",
     "traceback": [
      "\u001b[1;31m---------------------------------------------------------------------------\u001b[0m",
      "\u001b[1;31mValueError\u001b[0m                                Traceback (most recent call last)",
      "\u001b[1;32m<ipython-input-211-be220e3d024e>\u001b[0m in \u001b[0;36m<module>\u001b[1;34m()\u001b[0m\n\u001b[0;32m      5\u001b[0m \u001b[0mmovie_merge8\u001b[0m\u001b[1;33m[\u001b[0m\u001b[1;34m'release_date_wide'\u001b[0m\u001b[1;33m]\u001b[0m \u001b[1;33m=\u001b[0m \u001b[0mpd\u001b[0m\u001b[1;33m.\u001b[0m\u001b[0mto_datetime\u001b[0m\u001b[1;33m(\u001b[0m\u001b[0mmovie_merge8\u001b[0m\u001b[1;33m[\u001b[0m\u001b[1;34m'release_date_wide'\u001b[0m\u001b[1;33m]\u001b[0m\u001b[1;33m)\u001b[0m\u001b[1;33m\u001b[0m\u001b[0m\n\u001b[0;32m      6\u001b[0m \u001b[0mmovie_merge8\u001b[0m \u001b[1;33m=\u001b[0m \u001b[0mmovie_merge8\u001b[0m\u001b[1;33m.\u001b[0m\u001b[0mset_index\u001b[0m\u001b[1;33m(\u001b[0m\u001b[1;34m'release_date_wide'\u001b[0m\u001b[1;33m)\u001b[0m\u001b[1;33m\u001b[0m\u001b[0m\n\u001b[1;32m----> 7\u001b[1;33m \u001b[0ms\u001b[0m\u001b[1;33m=\u001b[0m\u001b[0msm\u001b[0m\u001b[1;33m.\u001b[0m\u001b[0mtsa\u001b[0m\u001b[1;33m.\u001b[0m\u001b[0mseasonal_decompose\u001b[0m\u001b[1;33m(\u001b[0m\u001b[0mmovie_merge8\u001b[0m\u001b[1;33m.\u001b[0m\u001b[0mdomestic_gross\u001b[0m\u001b[1;33m.\u001b[0m\u001b[0mdropna\u001b[0m\u001b[1;33m(\u001b[0m\u001b[1;33m)\u001b[0m\u001b[1;33m)\u001b[0m\u001b[1;33m\u001b[0m\u001b[0m\n\u001b[0m",
      "\u001b[1;32mC:\\Users\\vlq927\\AppData\\Local\\Continuum\\Anaconda\\lib\\site-packages\\statsmodels\\tsa\\seasonal.pyc\u001b[0m in \u001b[0;36mseasonal_decompose\u001b[1;34m(x, model, filt, freq)\u001b[0m\n\u001b[0;32m     76\u001b[0m \u001b[1;33m\u001b[0m\u001b[0m\n\u001b[0;32m     77\u001b[0m     \u001b[1;32melif\u001b[0m \u001b[0mfreq\u001b[0m \u001b[1;32mis\u001b[0m \u001b[0mNone\u001b[0m\u001b[1;33m:\u001b[0m\u001b[1;33m\u001b[0m\u001b[0m\n\u001b[1;32m---> 78\u001b[1;33m         raise ValueError(\"You must specify a freq or x must be a \"\n\u001b[0m\u001b[0;32m     79\u001b[0m                          \"pandas object with a timeseries index\")\n\u001b[0;32m     80\u001b[0m \u001b[1;33m\u001b[0m\u001b[0m\n",
      "\u001b[1;31mValueError\u001b[0m: You must specify a freq or x must be a pandas object with a timeseries index"
     ]
    }
   ],
   "source": [
    "\n",
    "import statsmodels.api as sm\n",
    "\n",
    "movie_merge8.reset_index(inplace=True)\n",
    "movie_merge8['release_date_wide'] = pd.to_datetime(movie_merge8['release_date_wide'])\n",
    "movie_merge8 = movie_merge8.set_index('release_date_wide')\n",
    "s=sm.tsa.seasonal_decompose(movie_merge8.domestic_gross.dropna())"
   ]
  },
  {
   "cell_type": "code",
   "execution_count": null,
   "metadata": {
    "collapsed": true
   },
   "outputs": [],
   "source": []
  }
 ],
 "metadata": {
  "kernelspec": {
   "display_name": "Python 2",
   "language": "python",
   "name": "python2"
  },
  "language_info": {
   "codemirror_mode": {
    "name": "ipython",
    "version": 2
   },
   "file_extension": ".py",
   "mimetype": "text/x-python",
   "name": "python",
   "nbconvert_exporter": "python",
   "pygments_lexer": "ipython2",
   "version": "2.7.11"
  }
 },
 "nbformat": 4,
 "nbformat_minor": 0
}
