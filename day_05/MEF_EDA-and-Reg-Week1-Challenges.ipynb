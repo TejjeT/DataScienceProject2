{
 "cells": [
  {
   "cell_type": "code",
   "execution_count": 1,
   "metadata": {
    "collapsed": false
   },
   "outputs": [],
   "source": [
    "import numpy as np\n",
    "import pandas as pd\n",
    "import matplotlib.pyplot as plt\n",
    "%matplotlib inline"
   ]
  },
  {
   "cell_type": "markdown",
   "metadata": {},
   "source": [
    "### Python #1"
   ]
  },
  {
   "cell_type": "markdown",
   "metadata": {},
   "source": [
    "Add functionality to loaddata.py that loads the data from files in the `data\\metacritic` folder similarly to how the code we wrote for boxofficemojo works. Try to reuse as much code from the morning as you can, without copy-pasting it!"
   ]
  },
  {
   "cell_type": "code",
   "execution_count": 2,
   "metadata": {
    "collapsed": true
   },
   "outputs": [],
   "source": [
    "#!cp ../project_1/loaddata.py ./loaddata.py"
   ]
  },
  {
   "cell_type": "code",
   "execution_count": 3,
   "metadata": {
    "collapsed": false
   },
   "outputs": [],
   "source": [
    "import loaddata\n",
    "\n",
    "META_DIR = \"../project_1/data/metacritic\"\n",
    "loaddata.MOJO_DIR = META_DIR"
   ]
  },
  {
   "cell_type": "code",
   "execution_count": 4,
   "metadata": {
    "collapsed": false
   },
   "outputs": [
    {
     "name": "stdout",
     "output_type": "stream",
     "text": [
      "Parsed 4767 movies from 4767 files\n"
     ]
    }
   ],
   "source": [
    "meta_movies = loaddata.get_boxofficemojo_movies()"
   ]
  },
  {
   "cell_type": "markdown",
   "metadata": {},
   "source": [
    "### Python #2"
   ]
  },
  {
   "cell_type": "markdown",
   "metadata": {},
   "source": [
    "BoxofficeMojo data has a couple fields `release_date_limited` and `release_date_wide` that are strings in a \"YYYY-MM-DD\" format. Python has a library called `datetime` for doing useful things with dates. Write a function using the `datetime` library to convert these strings into `datetime.date` objects."
   ]
  },
  {
   "cell_type": "code",
   "execution_count": 5,
   "metadata": {
    "collapsed": false
   },
   "outputs": [],
   "source": [
    "clean_movies = [m for m in meta_movies if type(m) == dict]"
   ]
  },
  {
   "cell_type": "code",
   "execution_count": 6,
   "metadata": {
    "collapsed": false
   },
   "outputs": [
    {
     "data": {
      "text/html": [
       "<div>\n",
       "<table border=\"1\" class=\"dataframe\">\n",
       "  <thead>\n",
       "    <tr style=\"text-align: right;\">\n",
       "      <th></th>\n",
       "      <th>complete</th>\n",
       "      <th>director</th>\n",
       "      <th>genre</th>\n",
       "      <th>metacritic_page</th>\n",
       "      <th>metascore</th>\n",
       "      <th>num_critic_reviews</th>\n",
       "      <th>num_user_ratings</th>\n",
       "      <th>num_user_reviews</th>\n",
       "      <th>rating</th>\n",
       "      <th>release_date</th>\n",
       "      <th>runtime_minutes</th>\n",
       "      <th>studio</th>\n",
       "      <th>title</th>\n",
       "      <th>unable to retrieve</th>\n",
       "      <th>user_score</th>\n",
       "      <th>year</th>\n",
       "    </tr>\n",
       "  </thead>\n",
       "  <tbody>\n",
       "    <tr>\n",
       "      <th>0</th>\n",
       "      <td>True</td>\n",
       "      <td>Gil Junger</td>\n",
       "      <td>[Comedy, Romance]</td>\n",
       "      <td>/movie/10-things-i-hate-about-you</td>\n",
       "      <td>70.0</td>\n",
       "      <td>[18, 7, 1, 26]</td>\n",
       "      <td>175.0</td>\n",
       "      <td>[27, 1, 1, 29]</td>\n",
       "      <td>PG-13</td>\n",
       "      <td>1999-03-31</td>\n",
       "      <td>97.0</td>\n",
       "      <td>Buena Vista Pictures</td>\n",
       "      <td>10 Things I Hate About You</td>\n",
       "      <td>NaN</td>\n",
       "      <td>7</td>\n",
       "      <td>1999</td>\n",
       "    </tr>\n",
       "    <tr>\n",
       "      <th>1</th>\n",
       "      <td>True</td>\n",
       "      <td>Jamie Linden</td>\n",
       "      <td>[Drama, Comedy, Romance]</td>\n",
       "      <td>/movie/10-years</td>\n",
       "      <td>61.0</td>\n",
       "      <td>[7, 11, 0, 18]</td>\n",
       "      <td>12.0</td>\n",
       "      <td>[3, 2, 1, 6]</td>\n",
       "      <td>R</td>\n",
       "      <td>2012-09-14</td>\n",
       "      <td>100.0</td>\n",
       "      <td>Anchor Bay Entertainment</td>\n",
       "      <td>10 Years</td>\n",
       "      <td>NaN</td>\n",
       "      <td>6.6</td>\n",
       "      <td>2012</td>\n",
       "    </tr>\n",
       "    <tr>\n",
       "      <th>2</th>\n",
       "      <td>True</td>\n",
       "      <td>Roland Emmerich</td>\n",
       "      <td>[Adventure, Drama, Fantasy]</td>\n",
       "      <td>/movie/10000-bc</td>\n",
       "      <td>34.0</td>\n",
       "      <td>[4, 8, 17, 29]</td>\n",
       "      <td>273.0</td>\n",
       "      <td>[50, 18, 60, 128]</td>\n",
       "      <td>PG-13</td>\n",
       "      <td>2008-03-07</td>\n",
       "      <td>109.0</td>\n",
       "      <td>Warner Bros. Pictures</td>\n",
       "      <td>10,000 BC</td>\n",
       "      <td>NaN</td>\n",
       "      <td>4.6</td>\n",
       "      <td>2008</td>\n",
       "    </tr>\n",
       "    <tr>\n",
       "      <th>3</th>\n",
       "      <td>True</td>\n",
       "      <td>Stephen Herek</td>\n",
       "      <td>[Adventure, Comedy, Family]</td>\n",
       "      <td>/movie/101-dalmatians</td>\n",
       "      <td>49.0</td>\n",
       "      <td>[8, 9, 3, 20]</td>\n",
       "      <td>78.0</td>\n",
       "      <td>[5, 5, 0, 10]</td>\n",
       "      <td>G</td>\n",
       "      <td>1996-11-27</td>\n",
       "      <td>103.0</td>\n",
       "      <td>Buena Vista Pictures</td>\n",
       "      <td>101 Dalmatians</td>\n",
       "      <td>NaN</td>\n",
       "      <td>5.9</td>\n",
       "      <td>1996</td>\n",
       "    </tr>\n",
       "    <tr>\n",
       "      <th>4</th>\n",
       "      <td>True</td>\n",
       "      <td>Kevin Lima</td>\n",
       "      <td>[Comedy, Family]</td>\n",
       "      <td>/movie/102-dalmatians</td>\n",
       "      <td>35.0</td>\n",
       "      <td>[7, 5, 12, 24]</td>\n",
       "      <td>47.0</td>\n",
       "      <td>[7, 3, 3, 13]</td>\n",
       "      <td>G</td>\n",
       "      <td>2000-11-22</td>\n",
       "      <td>100.0</td>\n",
       "      <td>Buena Vista Pictures</td>\n",
       "      <td>102 Dalmatians</td>\n",
       "      <td>NaN</td>\n",
       "      <td>5.3</td>\n",
       "      <td>2000</td>\n",
       "    </tr>\n",
       "  </tbody>\n",
       "</table>\n",
       "</div>"
      ],
      "text/plain": [
       "  complete         director                        genre  \\\n",
       "0     True       Gil Junger            [Comedy, Romance]   \n",
       "1     True     Jamie Linden     [Drama, Comedy, Romance]   \n",
       "2     True  Roland Emmerich  [Adventure, Drama, Fantasy]   \n",
       "3     True    Stephen Herek  [Adventure, Comedy, Family]   \n",
       "4     True       Kevin Lima             [Comedy, Family]   \n",
       "\n",
       "                     metacritic_page  metascore num_critic_reviews  \\\n",
       "0  /movie/10-things-i-hate-about-you       70.0     [18, 7, 1, 26]   \n",
       "1                    /movie/10-years       61.0     [7, 11, 0, 18]   \n",
       "2                    /movie/10000-bc       34.0     [4, 8, 17, 29]   \n",
       "3              /movie/101-dalmatians       49.0      [8, 9, 3, 20]   \n",
       "4              /movie/102-dalmatians       35.0     [7, 5, 12, 24]   \n",
       "\n",
       "   num_user_ratings   num_user_reviews rating release_date  runtime_minutes  \\\n",
       "0             175.0     [27, 1, 1, 29]  PG-13   1999-03-31             97.0   \n",
       "1              12.0       [3, 2, 1, 6]      R   2012-09-14            100.0   \n",
       "2             273.0  [50, 18, 60, 128]  PG-13   2008-03-07            109.0   \n",
       "3              78.0      [5, 5, 0, 10]      G   1996-11-27            103.0   \n",
       "4              47.0      [7, 3, 3, 13]      G   2000-11-22            100.0   \n",
       "\n",
       "                     studio                       title unable to retrieve  \\\n",
       "0      Buena Vista Pictures  10 Things I Hate About You                NaN   \n",
       "1  Anchor Bay Entertainment                    10 Years                NaN   \n",
       "2     Warner Bros. Pictures                   10,000 BC                NaN   \n",
       "3      Buena Vista Pictures              101 Dalmatians                NaN   \n",
       "4      Buena Vista Pictures              102 Dalmatians                NaN   \n",
       "\n",
       "  user_score  year  \n",
       "0          7  1999  \n",
       "1        6.6  2012  \n",
       "2        4.6  2008  \n",
       "3        5.9  1996  \n",
       "4        5.3  2000  "
      ]
     },
     "execution_count": 6,
     "metadata": {},
     "output_type": "execute_result"
    }
   ],
   "source": [
    "df = pd.DataFrame(clean_movies)\n",
    "df.head()"
   ]
  },
  {
   "cell_type": "code",
   "execution_count": 7,
   "metadata": {
    "collapsed": false
   },
   "outputs": [],
   "source": [
    "df.drop('unable to retrieve', axis=1, inplace=True)"
   ]
  },
  {
   "cell_type": "code",
   "execution_count": 8,
   "metadata": {
    "collapsed": false
   },
   "outputs": [],
   "source": [
    "#df.head()\n",
    "df.dropna(inplace=True);"
   ]
  },
  {
   "cell_type": "code",
   "execution_count": 9,
   "metadata": {
    "collapsed": false
   },
   "outputs": [
    {
     "data": {
      "text/plain": [
       "0    1999-03-31\n",
       "1    2012-09-14\n",
       "2    2008-03-07\n",
       "3    1996-11-27\n",
       "4    2000-11-22\n",
       "Name: release_date, dtype: object"
      ]
     },
     "execution_count": 9,
     "metadata": {},
     "output_type": "execute_result"
    }
   ],
   "source": [
    "#df['release_date'] = pd.to_datetime(df['release_date'])\n",
    "df.head()['release_date']"
   ]
  },
  {
   "cell_type": "code",
   "execution_count": 10,
   "metadata": {
    "collapsed": false
   },
   "outputs": [],
   "source": [
    "def mydatetime(ser):\n",
    "    import datetime as dt\n",
    "    return pd.Series([dt.datetime.strptime(d, \"%Y-%m-%d\") for d in ser])\n",
    "df['release_date'] = mydatetime(df['release_date'])"
   ]
  },
  {
   "cell_type": "markdown",
   "metadata": {},
   "source": [
    "### Pandas #3"
   ]
  },
  {
   "cell_type": "markdown",
   "metadata": {},
   "source": [
    "Write a function that loads both sources and merges them together, returning as many movies as possible where data is available from both sources."
   ]
  },
  {
   "cell_type": "code",
   "execution_count": 11,
   "metadata": {
    "collapsed": true
   },
   "outputs": [],
   "source": [
    "def get_movies(aDir):\n",
    "    import os, json\n",
    "    file_contents = os.listdir(aDir)\n",
    "\n",
    "    movie_list = []\n",
    "\n",
    "    for filename in file_contents:\n",
    "        filepath = os.path.join(aDir, filename)\n",
    "\n",
    "        with open(filepath, 'r') as movie_file:\n",
    "            movie_data = json.load(movie_file)\n",
    "        if hasattr(movie_data, \"keys\"): # type(movie_data) == dict:\n",
    "            movie_list.append(movie_data)\n",
    "    return movie_list"
   ]
  },
  {
   "cell_type": "code",
   "execution_count": 12,
   "metadata": {
    "collapsed": false
   },
   "outputs": [],
   "source": [
    "def load_movies():\n",
    "    mojo_movies = get_movies(\"../project_1/data/boxofficemojo\")    \n",
    "    meta_movies = get_movies(\"../project_1/data/metacritic\")\n",
    "    \n",
    "    mojo_df = pd.DataFrame(mojo_movies)\n",
    "    meta_df = pd.DataFrame(meta_movies)\n",
    "    \n",
    "    merged = pd.merge(mojo_df, meta_df, on=\"title\")\n",
    "    \n",
    "    return merged\n",
    "\n",
    "movie_df = load_movies()"
   ]
  },
  {
   "cell_type": "code",
   "execution_count": 13,
   "metadata": {
    "collapsed": false
   },
   "outputs": [
    {
     "data": {
      "text/html": [
       "<div>\n",
       "<table border=\"1\" class=\"dataframe\">\n",
       "  <thead>\n",
       "    <tr style=\"text-align: right;\">\n",
       "      <th></th>\n",
       "      <th>alt_title</th>\n",
       "      <th>director_x</th>\n",
       "      <th>domestic_gross</th>\n",
       "      <th>mojo_slug</th>\n",
       "      <th>opening_per_theater</th>\n",
       "      <th>opening_weekend_take</th>\n",
       "      <th>production_budget</th>\n",
       "      <th>release_date_limited</th>\n",
       "      <th>release_date_wide</th>\n",
       "      <th>title</th>\n",
       "      <th>...</th>\n",
       "      <th>num_critic_reviews</th>\n",
       "      <th>num_user_ratings</th>\n",
       "      <th>num_user_reviews</th>\n",
       "      <th>rating</th>\n",
       "      <th>release_date</th>\n",
       "      <th>runtime_minutes</th>\n",
       "      <th>studio</th>\n",
       "      <th>unable to retrieve</th>\n",
       "      <th>user_score</th>\n",
       "      <th>year_y</th>\n",
       "    </tr>\n",
       "  </thead>\n",
       "  <tbody>\n",
       "    <tr>\n",
       "      <th>0</th>\n",
       "      <td>10 Things I Hate About You (1999)</td>\n",
       "      <td>None</td>\n",
       "      <td>38178166.0</td>\n",
       "      <td>10thingsihateaboutyou</td>\n",
       "      <td>3668.0</td>\n",
       "      <td>8330681.0</td>\n",
       "      <td>30000000.0</td>\n",
       "      <td>None</td>\n",
       "      <td>1999-03-31</td>\n",
       "      <td>10 Things I Hate About You</td>\n",
       "      <td>...</td>\n",
       "      <td>[18, 7, 1, 26]</td>\n",
       "      <td>175.0</td>\n",
       "      <td>[27, 1, 1, 29]</td>\n",
       "      <td>PG-13</td>\n",
       "      <td>1999-03-31</td>\n",
       "      <td>97.0</td>\n",
       "      <td>Buena Vista Pictures</td>\n",
       "      <td>NaN</td>\n",
       "      <td>7</td>\n",
       "      <td>1999</td>\n",
       "    </tr>\n",
       "    <tr>\n",
       "      <th>1</th>\n",
       "      <td>10 Years (2012)</td>\n",
       "      <td>Jamie Linden</td>\n",
       "      <td>203373.0</td>\n",
       "      <td>10years</td>\n",
       "      <td>7569.0</td>\n",
       "      <td>22707.0</td>\n",
       "      <td>NaN</td>\n",
       "      <td>None</td>\n",
       "      <td>2012-09-14</td>\n",
       "      <td>10 Years</td>\n",
       "      <td>...</td>\n",
       "      <td>[7, 11, 0, 18]</td>\n",
       "      <td>12.0</td>\n",
       "      <td>[3, 2, 1, 6]</td>\n",
       "      <td>R</td>\n",
       "      <td>2012-09-14</td>\n",
       "      <td>100.0</td>\n",
       "      <td>Anchor Bay Entertainment</td>\n",
       "      <td>NaN</td>\n",
       "      <td>6.6</td>\n",
       "      <td>2012</td>\n",
       "    </tr>\n",
       "    <tr>\n",
       "      <th>2</th>\n",
       "      <td>The 11th Hour (2007)</td>\n",
       "      <td>None</td>\n",
       "      <td>707343.0</td>\n",
       "      <td>11thhour</td>\n",
       "      <td>15213.0</td>\n",
       "      <td>60853.0</td>\n",
       "      <td>NaN</td>\n",
       "      <td>None</td>\n",
       "      <td>2007-08-17</td>\n",
       "      <td>The 11th Hour</td>\n",
       "      <td>...</td>\n",
       "      <td>[20, 9, 1, 30]</td>\n",
       "      <td>18.0</td>\n",
       "      <td>[6, 1, 5, 12]</td>\n",
       "      <td>PG</td>\n",
       "      <td>2007-08-17</td>\n",
       "      <td>95.0</td>\n",
       "      <td>Warner Independent Pictures (WIP)</td>\n",
       "      <td>NaN</td>\n",
       "      <td>6.5</td>\n",
       "      <td>2007</td>\n",
       "    </tr>\n",
       "    <tr>\n",
       "      <th>3</th>\n",
       "      <td>127 Hours (2010)</td>\n",
       "      <td>Danny Boyle</td>\n",
       "      <td>18335230.0</td>\n",
       "      <td>127hours</td>\n",
       "      <td>2333.0</td>\n",
       "      <td>2136801.0</td>\n",
       "      <td>18000000.0</td>\n",
       "      <td>2010-11-05</td>\n",
       "      <td>2011-01-28</td>\n",
       "      <td>127 Hours</td>\n",
       "      <td>...</td>\n",
       "      <td>[37, 1, 0, 38]</td>\n",
       "      <td>518.0</td>\n",
       "      <td>[100, 2, 16, 118]</td>\n",
       "      <td>R</td>\n",
       "      <td>2010-11-05</td>\n",
       "      <td>94.0</td>\n",
       "      <td>Fox Searchlight Pictures</td>\n",
       "      <td>NaN</td>\n",
       "      <td>8</td>\n",
       "      <td>2010</td>\n",
       "    </tr>\n",
       "    <tr>\n",
       "      <th>4</th>\n",
       "      <td>12 Rounds (2009)</td>\n",
       "      <td>Renny Harlin</td>\n",
       "      <td>12234694.0</td>\n",
       "      <td>12rounds</td>\n",
       "      <td>2286.0</td>\n",
       "      <td>5329240.0</td>\n",
       "      <td>NaN</td>\n",
       "      <td>None</td>\n",
       "      <td>2009-03-27</td>\n",
       "      <td>12 Rounds</td>\n",
       "      <td>...</td>\n",
       "      <td>[1, 5, 7, 13]</td>\n",
       "      <td>66.0</td>\n",
       "      <td>[3, 5, 12, 20]</td>\n",
       "      <td>PG-13</td>\n",
       "      <td>2009-03-27</td>\n",
       "      <td>108.0</td>\n",
       "      <td>Fox Atomic</td>\n",
       "      <td>NaN</td>\n",
       "      <td>5</td>\n",
       "      <td>2009</td>\n",
       "    </tr>\n",
       "  </tbody>\n",
       "</table>\n",
       "<p>5 rows × 28 columns</p>\n",
       "</div>"
      ],
      "text/plain": [
       "                           alt_title    director_x  domestic_gross  \\\n",
       "0  10 Things I Hate About You (1999)          None      38178166.0   \n",
       "1                    10 Years (2012)  Jamie Linden        203373.0   \n",
       "2               The 11th Hour (2007)          None        707343.0   \n",
       "3                   127 Hours (2010)   Danny Boyle      18335230.0   \n",
       "4                   12 Rounds (2009)  Renny Harlin      12234694.0   \n",
       "\n",
       "               mojo_slug  opening_per_theater  opening_weekend_take  \\\n",
       "0  10thingsihateaboutyou               3668.0             8330681.0   \n",
       "1                10years               7569.0               22707.0   \n",
       "2               11thhour              15213.0               60853.0   \n",
       "3               127hours               2333.0             2136801.0   \n",
       "4               12rounds               2286.0             5329240.0   \n",
       "\n",
       "   production_budget release_date_limited release_date_wide  \\\n",
       "0         30000000.0                 None        1999-03-31   \n",
       "1                NaN                 None        2012-09-14   \n",
       "2                NaN                 None        2007-08-17   \n",
       "3         18000000.0           2010-11-05        2011-01-28   \n",
       "4                NaN                 None        2009-03-27   \n",
       "\n",
       "                        title   ...    num_critic_reviews  num_user_ratings  \\\n",
       "0  10 Things I Hate About You   ...        [18, 7, 1, 26]             175.0   \n",
       "1                    10 Years   ...        [7, 11, 0, 18]              12.0   \n",
       "2               The 11th Hour   ...        [20, 9, 1, 30]              18.0   \n",
       "3                   127 Hours   ...        [37, 1, 0, 38]             518.0   \n",
       "4                   12 Rounds   ...         [1, 5, 7, 13]              66.0   \n",
       "\n",
       "    num_user_reviews rating release_date runtime_minutes  \\\n",
       "0     [27, 1, 1, 29]  PG-13   1999-03-31            97.0   \n",
       "1       [3, 2, 1, 6]      R   2012-09-14           100.0   \n",
       "2      [6, 1, 5, 12]     PG   2007-08-17            95.0   \n",
       "3  [100, 2, 16, 118]      R   2010-11-05            94.0   \n",
       "4     [3, 5, 12, 20]  PG-13   2009-03-27           108.0   \n",
       "\n",
       "                              studio  unable to retrieve user_score  year_y  \n",
       "0               Buena Vista Pictures                 NaN          7    1999  \n",
       "1           Anchor Bay Entertainment                 NaN        6.6    2012  \n",
       "2  Warner Independent Pictures (WIP)                 NaN        6.5    2007  \n",
       "3           Fox Searchlight Pictures                 NaN          8    2010  \n",
       "4                         Fox Atomic                 NaN          5    2009  \n",
       "\n",
       "[5 rows x 28 columns]"
      ]
     },
     "execution_count": 13,
     "metadata": {},
     "output_type": "execute_result"
    }
   ],
   "source": [
    "movie_df.head()"
   ]
  },
  {
   "cell_type": "code",
   "execution_count": 14,
   "metadata": {
    "collapsed": false
   },
   "outputs": [
    {
     "data": {
      "text/plain": [
       "2434"
      ]
     },
     "execution_count": 14,
     "metadata": {},
     "output_type": "execute_result"
    }
   ],
   "source": [
    "len(movie_df)"
   ]
  },
  {
   "cell_type": "markdown",
   "metadata": {},
   "source": [
    "### Modelling #1"
   ]
  },
  {
   "cell_type": "markdown",
   "metadata": {},
   "source": [
    "Draw a histogram of the residuals for one of the regression models. What do their distribution look like? Does it look normally distributed?"
   ]
  },
  {
   "cell_type": "code",
   "execution_count": 15,
   "metadata": {
    "collapsed": false
   },
   "outputs": [],
   "source": [
    "mojo_movies = get_movies(\"../project_1/data/boxofficemojo\")\n",
    "mojo_df = pd.DataFrame(mojo_movies)"
   ]
  },
  {
   "cell_type": "code",
   "execution_count": 16,
   "metadata": {
    "collapsed": false
   },
   "outputs": [],
   "source": [
    "# view-ish-ness and warnings .... \n",
    "#test_df = mojo_df[['domestic_gross']]\n",
    "#test_df[0,0] = -99.0\n",
    "#print mojo_df['domestic_gross'][0]"
   ]
  },
  {
   "cell_type": "code",
   "execution_count": 17,
   "metadata": {
    "collapsed": false
   },
   "outputs": [
    {
     "name": "stdout",
     "output_type": "stream",
     "text": [
      "3728\n",
      "3548\n"
     ]
    }
   ],
   "source": [
    "# I like inplace ops, but without a copy, \n",
    "# this yells about view semantics (which should be a false postiive here)\n",
    "#df = mojo_df[['domestic_gross', 'opening_weekend_take']].copy()\n",
    "#df.dropna(inplace=True)\n",
    "\n",
    "df = mojo_df[['domestic_gross', 'opening_weekend_take']]\n",
    "print len(df)\n",
    "df = df.dropna() # also, inplace=True ... but yells about view semantics\n",
    "print len(df)"
   ]
  },
  {
   "cell_type": "code",
   "execution_count": 18,
   "metadata": {
    "collapsed": false
   },
   "outputs": [
    {
     "data": {
      "text/html": [
       "<table class=\"simpletable\">\n",
       "<caption>OLS Regression Results</caption>\n",
       "<tr>\n",
       "  <th>Dep. Variable:</th>     <td>domestic_gross</td>  <th>  R-squared:         </th> <td>   0.729</td> \n",
       "</tr>\n",
       "<tr>\n",
       "  <th>Model:</th>                   <td>OLS</td>       <th>  Adj. R-squared:    </th> <td>   0.729</td> \n",
       "</tr>\n",
       "<tr>\n",
       "  <th>Method:</th>             <td>Least Squares</td>  <th>  F-statistic:       </th> <td>   9522.</td> \n",
       "</tr>\n",
       "<tr>\n",
       "  <th>Date:</th>             <td>Wed, 06 Apr 2016</td> <th>  Prob (F-statistic):</th>  <td>  0.00</td>  \n",
       "</tr>\n",
       "<tr>\n",
       "  <th>Time:</th>                 <td>10:10:56</td>     <th>  Log-Likelihood:    </th> <td> -66088.</td> \n",
       "</tr>\n",
       "<tr>\n",
       "  <th>No. Observations:</th>      <td>  3548</td>      <th>  AIC:               </th> <td>1.322e+05</td>\n",
       "</tr>\n",
       "<tr>\n",
       "  <th>Df Residuals:</th>          <td>  3546</td>      <th>  BIC:               </th> <td>1.322e+05</td>\n",
       "</tr>\n",
       "<tr>\n",
       "  <th>Df Model:</th>              <td>     1</td>      <th>                     </th>     <td> </td>    \n",
       "</tr>\n",
       "<tr>\n",
       "  <th>Covariance Type:</th>      <td>nonrobust</td>    <th>                     </th>     <td> </td>    \n",
       "</tr>\n",
       "</table>\n",
       "<table class=\"simpletable\">\n",
       "<tr>\n",
       "            <td></td>              <th>coef</th>     <th>std err</th>      <th>t</th>      <th>P>|t|</th> <th>[95.0% Conf. Int.]</th> \n",
       "</tr>\n",
       "<tr>\n",
       "  <th>const</th>                <td> 5.397e+06</td> <td> 5.92e+05</td> <td>    9.120</td> <td> 0.000</td> <td> 4.24e+06  6.56e+06</td>\n",
       "</tr>\n",
       "<tr>\n",
       "  <th>opening_weekend_take</th> <td>    3.4734</td> <td>    0.036</td> <td>   97.581</td> <td> 0.000</td> <td>    3.404     3.543</td>\n",
       "</tr>\n",
       "</table>\n",
       "<table class=\"simpletable\">\n",
       "<tr>\n",
       "  <th>Omnibus:</th>       <td>4177.673</td> <th>  Durbin-Watson:     </th>  <td>   1.914</td> \n",
       "</tr>\n",
       "<tr>\n",
       "  <th>Prob(Omnibus):</th>  <td> 0.000</td>  <th>  Jarque-Bera (JB):  </th> <td>873313.507</td>\n",
       "</tr>\n",
       "<tr>\n",
       "  <th>Skew:</th>           <td> 5.909</td>  <th>  Prob(JB):          </th>  <td>    0.00</td> \n",
       "</tr>\n",
       "<tr>\n",
       "  <th>Kurtosis:</th>       <td>78.946</td>  <th>  Cond. No.          </th>  <td>1.97e+07</td> \n",
       "</tr>\n",
       "</table>"
      ],
      "text/plain": [
       "<class 'statsmodels.iolib.summary.Summary'>\n",
       "\"\"\"\n",
       "                            OLS Regression Results                            \n",
       "==============================================================================\n",
       "Dep. Variable:         domestic_gross   R-squared:                       0.729\n",
       "Model:                            OLS   Adj. R-squared:                  0.729\n",
       "Method:                 Least Squares   F-statistic:                     9522.\n",
       "Date:                Wed, 06 Apr 2016   Prob (F-statistic):               0.00\n",
       "Time:                        10:10:56   Log-Likelihood:                -66088.\n",
       "No. Observations:                3548   AIC:                         1.322e+05\n",
       "Df Residuals:                    3546   BIC:                         1.322e+05\n",
       "Df Model:                           1                                         \n",
       "Covariance Type:            nonrobust                                         \n",
       "========================================================================================\n",
       "                           coef    std err          t      P>|t|      [95.0% Conf. Int.]\n",
       "----------------------------------------------------------------------------------------\n",
       "const                 5.397e+06   5.92e+05      9.120      0.000      4.24e+06  6.56e+06\n",
       "opening_weekend_take     3.4734      0.036     97.581      0.000         3.404     3.543\n",
       "==============================================================================\n",
       "Omnibus:                     4177.673   Durbin-Watson:                   1.914\n",
       "Prob(Omnibus):                  0.000   Jarque-Bera (JB):           873313.507\n",
       "Skew:                           5.909   Prob(JB):                         0.00\n",
       "Kurtosis:                      78.946   Cond. No.                     1.97e+07\n",
       "==============================================================================\n",
       "\n",
       "Warnings:\n",
       "[1] Standard Errors assume that the covariance matrix of the errors is correctly specified.\n",
       "[2] The condition number is large, 1.97e+07. This might indicate that there are\n",
       "strong multicollinearity or other numerical problems.\n",
       "\"\"\""
      ]
     },
     "execution_count": 18,
     "metadata": {},
     "output_type": "execute_result"
    }
   ],
   "source": [
    "import statsmodels.api as sm\n",
    "\n",
    "Y = df.domestic_gross\n",
    "X = sm.add_constant(df.opening_weekend_take)\n",
    "\n",
    "results = sm.OLS(Y,X).fit()\n",
    "results.summary()"
   ]
  },
  {
   "cell_type": "code",
   "execution_count": 19,
   "metadata": {
    "collapsed": false
   },
   "outputs": [
    {
     "data": {
      "text/plain": [
       "[<matplotlib.lines.Line2D at 0x117b178d0>]"
      ]
     },
     "execution_count": 19,
     "metadata": {},
     "output_type": "execute_result"
    },
    {
     "name": "stderr",
     "output_type": "stream",
     "text": [
      "/Users/mfenner/anaconda/lib/python2.7/site-packages/matplotlib/collections.py:590: FutureWarning: elementwise comparison failed; returning scalar instead, but in the future will perform elementwise comparison\n",
      "  if self._edgecolors == str('face'):\n"
     ]
    },
    {
     "data": {
      "image/png": "[encoded data removed]",
      "text/plain": [
       "<matplotlib.figure.Figure at 0x117b17a50>"
      ]
     },
     "metadata": {},
     "output_type": "display_data"
    }
   ],
   "source": [
    "predicted_gross = results.predict()\n",
    "plt.scatter(df.opening_weekend_take, df.domestic_gross, color='gray', alpha=.2)\n",
    "plt.plot(df.opening_weekend_take, predicted_gross, color='blue')"
   ]
  },
  {
   "cell_type": "code",
   "execution_count": 20,
   "metadata": {
    "collapsed": false
   },
   "outputs": [
    {
     "data": {
      "image/png": "[encoded data removed]",
      "text/plain": [
       "<matplotlib.figure.Figure at 0x11a8ad950>"
      ]
     },
     "metadata": {},
     "output_type": "display_data"
    }
   ],
   "source": [
    "_, (ax1, ax2) = plt.subplots(1,2,sharey=True, figsize=(12,5))\n",
    "ax1.hist(results.resid)\n",
    "manual_resid = df.domestic_gross - predicted_gross\n",
    "ax2.hist(manual_resid, color='red');"
   ]
  },
  {
   "cell_type": "code",
   "execution_count": 21,
   "metadata": {
    "collapsed": false
   },
   "outputs": [],
   "source": [
    "df['log_dg'] = np.log(df.domestic_gross)\n",
    "df['log_owt'] = np.log(df.opening_weekend_take)"
   ]
  },
  {
   "cell_type": "code",
   "execution_count": 22,
   "metadata": {
    "collapsed": false
   },
   "outputs": [],
   "source": [
    "Y = df.log_dg\n",
    "X = sm.add_constant(df.log_owt)\n",
    "\n",
    "linmodel_logs_results = sm.OLS(Y,X).fit()\n",
    "logpred = linmodel_logs_results.predict()"
   ]
  },
  {
   "cell_type": "code",
   "execution_count": 23,
   "metadata": {
    "collapsed": false
   },
   "outputs": [
    {
     "data": {
      "text/plain": [
       "[<matplotlib.lines.Line2D at 0x115b6de90>]"
      ]
     },
     "execution_count": 23,
     "metadata": {},
     "output_type": "execute_result"
    },
    {
     "data": {
      "image/png": "[encoded data removed]",
      "text/plain": [
       "<matplotlib.figure.Figure at 0x115b6dfd0>"
      ]
     },
     "metadata": {},
     "output_type": "display_data"
    }
   ],
   "source": [
    "plt.scatter(df.log_owt, df.log_dg, color='gray', marker='+', alpha=.2)\n",
    "#plt.scatter(df.log_owt, df.log_dg, 'go', alpha=.2)\n",
    "plt.plot(df.log_owt, logpred, color='blue')"
   ]
  },
  {
   "cell_type": "code",
   "execution_count": 24,
   "metadata": {
    "collapsed": false
   },
   "outputs": [
    {
     "data": {
      "image/png": "[encoded data removed]",
      "text/plain": [
       "<matplotlib.figure.Figure at 0x11ad5dd10>"
      ]
     },
     "metadata": {},
     "output_type": "display_data"
    }
   ],
   "source": [
    "plt.hist(linmodel_logs_results.resid);"
   ]
  },
  {
   "cell_type": "markdown",
   "metadata": {},
   "source": [
    "### Modelling #2"
   ]
  },
  {
   "cell_type": "markdown",
   "metadata": {},
   "source": [
    "Build a Domestic Gross model using all the features. Include every available feature. How does your model do? Is it safe to include all these features?"
   ]
  },
  {
   "cell_type": "code",
   "execution_count": 25,
   "metadata": {
    "collapsed": true
   },
   "outputs": [],
   "source": [
    "mojo_movies = get_movies(\"../project_1/data/boxofficemojo\")\n",
    "mojo_df = pd.DataFrame(mojo_movies)\n",
    "\n",
    "mojo_df = mojo_df.dropna() # axis=0, how=any"
   ]
  },
  {
   "cell_type": "code",
   "execution_count": 26,
   "metadata": {
    "collapsed": false
   },
   "outputs": [
    {
     "data": {
      "text/plain": [
       "Index([u'alt_title', u'director', u'domestic_gross', u'mojo_slug',\n",
       "       u'opening_per_theater', u'opening_weekend_take', u'production_budget',\n",
       "       u'release_date_limited', u'release_date_wide', u'title',\n",
       "       u'widest_release', u'worldwide_gross', u'year'],\n",
       "      dtype='object')"
      ]
     },
     "execution_count": 26,
     "metadata": {},
     "output_type": "execute_result"
    }
   ],
   "source": [
    "mojo_df.columns"
   ]
  },
  {
   "cell_type": "code",
   "execution_count": 27,
   "metadata": {
    "collapsed": false
   },
   "outputs": [],
   "source": [
    "import statsmodels.formula.api as smf\n",
    "\n",
    "target_var = \"domestic_gross\"\n",
    "all_other_vars = \"+\".join(v for v in mojo_df.columns if v != target_var)\n",
    "formula = (target_var + \" ~ \" + all_other_vars).encode('ascii')\n",
    "\n",
    "#smf.ols(\"domestic_gross ~ production_budget\", data=mojo_df)\n",
    "saturated_model_results = smf.ols(formula, data=mojo_df).fit()\n",
    "\n",
    "# saturated_model_results.summary()"
   ]
  },
  {
   "cell_type": "code",
   "execution_count": 28,
   "metadata": {
    "collapsed": false
   },
   "outputs": [
    {
     "name": "stdout",
     "output_type": "stream",
     "text": [
      "[u'alt_title', u'domestic_gross', u'mojo_slug', u'opening_per_theater', u'opening_weekend_take', u'release_date_limited', u'release_date_wide', u'title', u'widest_release', u'worldwide_gross']\n"
     ]
    }
   ],
   "source": [
    "# which columns have \"unique\" indicators\n",
    "print [d for d in mojo_df.columns if len(pd.unique(mojo_df[d])) > .9 * len(mojo_df)]"
   ]
  },
  {
   "cell_type": "code",
   "execution_count": 29,
   "metadata": {
    "collapsed": false
   },
   "outputs": [],
   "source": [
    "selected_features = [#'director', \n",
    "                     \"opening_per_theater\", \n",
    "                     \"opening_weekend_take\", \n",
    "                     \"production_budget\", \n",
    "                     'widest_release',\n",
    "                     'worldwide_gross']\n",
    "\n",
    "target_var = \"domestic_gross\"\n",
    "formula = \"%s ~ %s\" % (target_var, \"+\".join(selected_features))\n",
    "model_results = smf.ols(formula, data=mojo_df).fit()"
   ]
  },
  {
   "cell_type": "code",
   "execution_count": 30,
   "metadata": {
    "collapsed": false
   },
   "outputs": [
    {
     "data": {
      "text/html": [
       "<table class=\"simpletable\">\n",
       "<caption>OLS Regression Results</caption>\n",
       "<tr>\n",
       "  <th>Dep. Variable:</th>     <td>domestic_gross</td>  <th>  R-squared:         </th> <td>   0.941</td>\n",
       "</tr>\n",
       "<tr>\n",
       "  <th>Model:</th>                   <td>OLS</td>       <th>  Adj. R-squared:    </th> <td>   0.938</td>\n",
       "</tr>\n",
       "<tr>\n",
       "  <th>Method:</th>             <td>Least Squares</td>  <th>  F-statistic:       </th> <td>   379.5</td>\n",
       "</tr>\n",
       "<tr>\n",
       "  <th>Date:</th>             <td>Wed, 06 Apr 2016</td> <th>  Prob (F-statistic):</th> <td>9.55e-72</td>\n",
       "</tr>\n",
       "<tr>\n",
       "  <th>Time:</th>                 <td>10:10:58</td>     <th>  Log-Likelihood:    </th> <td> -2266.4</td>\n",
       "</tr>\n",
       "<tr>\n",
       "  <th>No. Observations:</th>      <td>   126</td>      <th>  AIC:               </th> <td>   4545.</td>\n",
       "</tr>\n",
       "<tr>\n",
       "  <th>Df Residuals:</th>          <td>   120</td>      <th>  BIC:               </th> <td>   4562.</td>\n",
       "</tr>\n",
       "<tr>\n",
       "  <th>Df Model:</th>              <td>     5</td>      <th>                     </th>     <td> </td>   \n",
       "</tr>\n",
       "<tr>\n",
       "  <th>Covariance Type:</th>      <td>nonrobust</td>    <th>                     </th>     <td> </td>   \n",
       "</tr>\n",
       "</table>\n",
       "<table class=\"simpletable\">\n",
       "<tr>\n",
       "            <td></td>              <th>coef</th>     <th>std err</th>      <th>t</th>      <th>P>|t|</th> <th>[95.0% Conf. Int.]</th> \n",
       "</tr>\n",
       "<tr>\n",
       "  <th>Intercept</th>            <td>-1.822e+06</td> <td> 4.14e+06</td> <td>   -0.441</td> <td> 0.660</td> <td>   -1e+07  6.37e+06</td>\n",
       "</tr>\n",
       "<tr>\n",
       "  <th>opening_per_theater</th>  <td> 1617.0742</td> <td>  639.379</td> <td>    2.529</td> <td> 0.013</td> <td>  351.148  2883.001</td>\n",
       "</tr>\n",
       "<tr>\n",
       "  <th>opening_weekend_take</th> <td>    1.2413</td> <td>    0.243</td> <td>    5.102</td> <td> 0.000</td> <td>    0.760     1.723</td>\n",
       "</tr>\n",
       "<tr>\n",
       "  <th>production_budget</th>    <td>   -0.1780</td> <td>    0.071</td> <td>   -2.512</td> <td> 0.013</td> <td>   -0.318    -0.038</td>\n",
       "</tr>\n",
       "<tr>\n",
       "  <th>widest_release</th>       <td> 1566.6944</td> <td> 2809.767</td> <td>    0.558</td> <td> 0.578</td> <td>-3996.448  7129.837</td>\n",
       "</tr>\n",
       "<tr>\n",
       "  <th>worldwide_gross</th>      <td>    0.3587</td> <td>    0.015</td> <td>   24.074</td> <td> 0.000</td> <td>    0.329     0.388</td>\n",
       "</tr>\n",
       "</table>\n",
       "<table class=\"simpletable\">\n",
       "<tr>\n",
       "  <th>Omnibus:</th>       <td>26.376</td> <th>  Durbin-Watson:     </th> <td>   1.705</td>\n",
       "</tr>\n",
       "<tr>\n",
       "  <th>Prob(Omnibus):</th> <td> 0.000</td> <th>  Jarque-Bera (JB):  </th> <td>  76.215</td>\n",
       "</tr>\n",
       "<tr>\n",
       "  <th>Skew:</th>          <td> 0.725</td> <th>  Prob(JB):          </th> <td>2.82e-17</td>\n",
       "</tr>\n",
       "<tr>\n",
       "  <th>Kurtosis:</th>      <td> 6.523</td> <th>  Cond. No.          </th> <td>5.45e+08</td>\n",
       "</tr>\n",
       "</table>"
      ],
      "text/plain": [
       "<class 'statsmodels.iolib.summary.Summary'>\n",
       "\"\"\"\n",
       "                            OLS Regression Results                            \n",
       "==============================================================================\n",
       "Dep. Variable:         domestic_gross   R-squared:                       0.941\n",
       "Model:                            OLS   Adj. R-squared:                  0.938\n",
       "Method:                 Least Squares   F-statistic:                     379.5\n",
       "Date:                Wed, 06 Apr 2016   Prob (F-statistic):           9.55e-72\n",
       "Time:                        10:10:58   Log-Likelihood:                -2266.4\n",
       "No. Observations:                 126   AIC:                             4545.\n",
       "Df Residuals:                     120   BIC:                             4562.\n",
       "Df Model:                           5                                         \n",
       "Covariance Type:            nonrobust                                         \n",
       "========================================================================================\n",
       "                           coef    std err          t      P>|t|      [95.0% Conf. Int.]\n",
       "----------------------------------------------------------------------------------------\n",
       "Intercept            -1.822e+06   4.14e+06     -0.441      0.660        -1e+07  6.37e+06\n",
       "opening_per_theater   1617.0742    639.379      2.529      0.013       351.148  2883.001\n",
       "opening_weekend_take     1.2413      0.243      5.102      0.000         0.760     1.723\n",
       "production_budget       -0.1780      0.071     -2.512      0.013        -0.318    -0.038\n",
       "widest_release        1566.6944   2809.767      0.558      0.578     -3996.448  7129.837\n",
       "worldwide_gross          0.3587      0.015     24.074      0.000         0.329     0.388\n",
       "==============================================================================\n",
       "Omnibus:                       26.376   Durbin-Watson:                   1.705\n",
       "Prob(Omnibus):                  0.000   Jarque-Bera (JB):               76.215\n",
       "Skew:                           0.725   Prob(JB):                     2.82e-17\n",
       "Kurtosis:                       6.523   Cond. No.                     5.45e+08\n",
       "==============================================================================\n",
       "\n",
       "Warnings:\n",
       "[1] Standard Errors assume that the covariance matrix of the errors is correctly specified.\n",
       "[2] The condition number is large, 5.45e+08. This might indicate that there are\n",
       "strong multicollinearity or other numerical problems.\n",
       "\"\"\""
      ]
     },
     "execution_count": 30,
     "metadata": {},
     "output_type": "execute_result"
    }
   ],
   "source": [
    "model_results.summary()"
   ]
  },
  {
   "cell_type": "markdown",
   "metadata": {},
   "source": [
    "### Modeling #3"
   ]
  },
  {
   "cell_type": "markdown",
   "metadata": {},
   "source": [
    "Create a couple of features yourself. Add them as columns in your dataframe. Calculate them from other features. Examples: a) Length of title, b) if it is after 2000 or not (1 if it is, 0 it isn't), number of thaters opened to (opening take/opening per theater), etc. You make others. Put them (among with budget and other features of your choice) in model. See if they look significant. One by one, remove insignificant features and check the residuals. Any change? What is left? (Try different combinations to find a better performing model. Which metric will you use for 'better performance'?)"
   ]
  },
  {
   "cell_type": "code",
   "execution_count": 31,
   "metadata": {
    "collapsed": true
   },
   "outputs": [],
   "source": [
    "mojo_movies = get_movies(\"../project_1/data/boxofficemojo\")\n",
    "mojo_df = pd.DataFrame(mojo_movies)\n",
    "mojo_df = mojo_df.dropna() # axis=0, how=any"
   ]
  },
  {
   "cell_type": "code",
   "execution_count": 32,
   "metadata": {
    "collapsed": true
   },
   "outputs": [],
   "source": [
    "mojo_df['recent'] = mojo_df['year'] > 2000\n",
    "mojo_df['open_theaters'] = mojo_df['opening_weekend_take'] / mojo_df['opening_per_theater']\n",
    "mojo_df['investment'] = np.log(mojo_df['production_budget']) * np.log(mojo_df['widest_release'])"
   ]
  },
  {
   "cell_type": "code",
   "execution_count": 33,
   "metadata": {
    "collapsed": false
   },
   "outputs": [
    {
     "data": {
      "text/html": [
       "<table class=\"simpletable\">\n",
       "<caption>OLS Regression Results</caption>\n",
       "<tr>\n",
       "  <th>Dep. Variable:</th>     <td>domestic_gross</td>  <th>  R-squared:         </th> <td>   0.705</td>\n",
       "</tr>\n",
       "<tr>\n",
       "  <th>Model:</th>                   <td>OLS</td>       <th>  Adj. R-squared:    </th> <td>   0.692</td>\n",
       "</tr>\n",
       "<tr>\n",
       "  <th>Method:</th>             <td>Least Squares</td>  <th>  F-statistic:       </th> <td>   57.25</td>\n",
       "</tr>\n",
       "<tr>\n",
       "  <th>Date:</th>             <td>Wed, 06 Apr 2016</td> <th>  Prob (F-statistic):</th> <td>3.60e-30</td>\n",
       "</tr>\n",
       "<tr>\n",
       "  <th>Time:</th>                 <td>10:10:58</td>     <th>  Log-Likelihood:    </th> <td> -2367.4</td>\n",
       "</tr>\n",
       "<tr>\n",
       "  <th>No. Observations:</th>      <td>   126</td>      <th>  AIC:               </th> <td>   4747.</td>\n",
       "</tr>\n",
       "<tr>\n",
       "  <th>Df Residuals:</th>          <td>   120</td>      <th>  BIC:               </th> <td>   4764.</td>\n",
       "</tr>\n",
       "<tr>\n",
       "  <th>Df Model:</th>              <td>     5</td>      <th>                     </th>     <td> </td>   \n",
       "</tr>\n",
       "<tr>\n",
       "  <th>Covariance Type:</th>      <td>nonrobust</td>    <th>                     </th>     <td> </td>   \n",
       "</tr>\n",
       "</table>\n",
       "<table class=\"simpletable\">\n",
       "<tr>\n",
       "            <td></td>              <th>coef</th>     <th>std err</th>      <th>t</th>      <th>P>|t|</th> <th>[95.0% Conf. Int.]</th> \n",
       "</tr>\n",
       "<tr>\n",
       "  <th>Intercept</th>            <td> 4.039e+07</td> <td> 1.01e+07</td> <td>    3.992</td> <td> 0.000</td> <td> 2.04e+07  6.04e+07</td>\n",
       "</tr>\n",
       "<tr>\n",
       "  <th>recent[T.True]</th>       <td>-2.694e+07</td> <td> 7.93e+06</td> <td>   -3.398</td> <td> 0.001</td> <td>-4.26e+07 -1.12e+07</td>\n",
       "</tr>\n",
       "<tr>\n",
       "  <th>production_budget</th>    <td>   -0.0220</td> <td>    0.164</td> <td>   -0.134</td> <td> 0.894</td> <td>   -0.348     0.304</td>\n",
       "</tr>\n",
       "<tr>\n",
       "  <th>widest_release</th>       <td> 4.077e+04</td> <td> 6865.180</td> <td>    5.938</td> <td> 0.000</td> <td> 2.72e+04  5.44e+04</td>\n",
       "</tr>\n",
       "<tr>\n",
       "  <th>opening_weekend_take</th> <td>    4.6248</td> <td>    0.448</td> <td>   10.322</td> <td> 0.000</td> <td>    3.738     5.512</td>\n",
       "</tr>\n",
       "<tr>\n",
       "  <th>open_theaters</th>        <td> -4.86e+04</td> <td> 8319.622</td> <td>   -5.842</td> <td> 0.000</td> <td>-6.51e+04 -3.21e+04</td>\n",
       "</tr>\n",
       "</table>\n",
       "<table class=\"simpletable\">\n",
       "<tr>\n",
       "  <th>Omnibus:</th>       <td>117.133</td> <th>  Durbin-Watson:     </th> <td>   1.688</td>\n",
       "</tr>\n",
       "<tr>\n",
       "  <th>Prob(Omnibus):</th> <td> 0.000</td>  <th>  Jarque-Bera (JB):  </th> <td>1671.662</td>\n",
       "</tr>\n",
       "<tr>\n",
       "  <th>Skew:</th>          <td> 3.163</td>  <th>  Prob(JB):          </th> <td>    0.00</td>\n",
       "</tr>\n",
       "<tr>\n",
       "  <th>Kurtosis:</th>      <td>19.685</td>  <th>  Cond. No.          </th> <td>1.41e+08</td>\n",
       "</tr>\n",
       "</table>"
      ],
      "text/plain": [
       "<class 'statsmodels.iolib.summary.Summary'>\n",
       "\"\"\"\n",
       "                            OLS Regression Results                            \n",
       "==============================================================================\n",
       "Dep. Variable:         domestic_gross   R-squared:                       0.705\n",
       "Model:                            OLS   Adj. R-squared:                  0.692\n",
       "Method:                 Least Squares   F-statistic:                     57.25\n",
       "Date:                Wed, 06 Apr 2016   Prob (F-statistic):           3.60e-30\n",
       "Time:                        10:10:58   Log-Likelihood:                -2367.4\n",
       "No. Observations:                 126   AIC:                             4747.\n",
       "Df Residuals:                     120   BIC:                             4764.\n",
       "Df Model:                           5                                         \n",
       "Covariance Type:            nonrobust                                         \n",
       "========================================================================================\n",
       "                           coef    std err          t      P>|t|      [95.0% Conf. Int.]\n",
       "----------------------------------------------------------------------------------------\n",
       "Intercept             4.039e+07   1.01e+07      3.992      0.000      2.04e+07  6.04e+07\n",
       "recent[T.True]       -2.694e+07   7.93e+06     -3.398      0.001     -4.26e+07 -1.12e+07\n",
       "production_budget       -0.0220      0.164     -0.134      0.894        -0.348     0.304\n",
       "widest_release        4.077e+04   6865.180      5.938      0.000      2.72e+04  5.44e+04\n",
       "opening_weekend_take     4.6248      0.448     10.322      0.000         3.738     5.512\n",
       "open_theaters         -4.86e+04   8319.622     -5.842      0.000     -6.51e+04 -3.21e+04\n",
       "==============================================================================\n",
       "Omnibus:                      117.133   Durbin-Watson:                   1.688\n",
       "Prob(Omnibus):                  0.000   Jarque-Bera (JB):             1671.662\n",
       "Skew:                           3.163   Prob(JB):                         0.00\n",
       "Kurtosis:                      19.685   Cond. No.                     1.41e+08\n",
       "==============================================================================\n",
       "\n",
       "Warnings:\n",
       "[1] Standard Errors assume that the covariance matrix of the errors is correctly specified.\n",
       "[2] The condition number is large, 1.41e+08. This might indicate that there are\n",
       "strong multicollinearity or other numerical problems.\n",
       "\"\"\""
      ]
     },
     "execution_count": 33,
     "metadata": {},
     "output_type": "execute_result"
    }
   ],
   "source": [
    "selected_features = [\"production_budget\", \n",
    "                     'widest_release',\n",
    "                     #'worldwide_gross',\n",
    "                     'recent',\n",
    "                     'opening_weekend_take',\n",
    "                     'open_theaters',\n",
    "                     #'investment'\n",
    "                    ]\n",
    "\n",
    "target_var = \"domestic_gross\"\n",
    "formula = \"%s ~ %s\" % (target_var, \"+\".join(selected_features))\n",
    "model_results = smf.ols(formula, data=mojo_df).fit()\n",
    "model_results.summary()"
   ]
  },
  {
   "cell_type": "code",
   "execution_count": 34,
   "metadata": {
    "collapsed": true
   },
   "outputs": [],
   "source": [
    "# to really get into this, we need to do some logs on the dollar values\n",
    "# ignore worldwide take since it's really another *output* variable (with high corr)\n",
    "# digging into directors would help (we do that later)"
   ]
  },
  {
   "cell_type": "markdown",
   "metadata": {},
   "source": [
    "### Modeling #4"
   ]
  },
  {
   "cell_type": "markdown",
   "metadata": {},
   "source": [
    "Fitting and checking predictions on the exact same data set can be misleading. Divide your data into two sets: a training and a test set (roughly 75% training, 25% test is a fine split). Fit a model on the training set, check the predictions (by plotting versus actual values) in the test set."
   ]
  },
  {
   "cell_type": "code",
   "execution_count": 35,
   "metadata": {
    "collapsed": false
   },
   "outputs": [
    {
     "name": "stdout",
     "output_type": "stream",
     "text": [
      "3548\n"
     ]
    }
   ],
   "source": [
    "mojo_movies = get_movies(\"../project_1/data/boxofficemojo\")\n",
    "mojo_df = pd.DataFrame(mojo_movies)\n",
    "\n",
    "mojo_df = mojo_df[[\"opening_weekend_take\", \"domestic_gross\"]]\n",
    "\n",
    "mojo_df = mojo_df.dropna() # axis=0, how=any\n",
    "print len(mojo_df)"
   ]
  },
  {
   "cell_type": "code",
   "execution_count": 36,
   "metadata": {
    "collapsed": false
   },
   "outputs": [
    {
     "name": "stdout",
     "output_type": "stream",
     "text": [
      "3548\n",
      "2661 887\n"
     ]
    }
   ],
   "source": [
    "num_examples = len(mojo_df)\n",
    "num_train_examples = int(num_examples * .75)\n",
    "print num_examples\n",
    "\n",
    "shuffled_indices = np.random.permutation(num_examples)\n",
    "\n",
    "train_idxs = shuffled_indices[:num_train_examples]\n",
    "test_idxs = shuffled_indices[num_train_examples:]\n",
    "\n",
    "train_df = mojo_df.iloc[train_idxs]\n",
    "test_df  = mojo_df.iloc[test_idxs]\n",
    "\n",
    "print len(train_df), len(test_df)"
   ]
  },
  {
   "cell_type": "code",
   "execution_count": 37,
   "metadata": {
    "collapsed": false
   },
   "outputs": [],
   "source": [
    "Y = train_df.domestic_gross\n",
    "X = sm.add_constant(train_df.opening_weekend_take)\n",
    "\n",
    "model = sm.OLS(Y,X)\n",
    "results = model.fit()\n",
    "preds = results.predict() # train set\n",
    "\n",
    "test_preds = results.predict(test_df)"
   ]
  },
  {
   "cell_type": "code",
   "execution_count": 38,
   "metadata": {
    "collapsed": false
   },
   "outputs": [
    {
     "data": {
      "image/png": "[encoded data removed]",
      "text/plain": [
       "<matplotlib.figure.Figure at 0x115ad3410>"
      ]
     },
     "metadata": {},
     "output_type": "display_data"
    }
   ],
   "source": [
    "_, ax = plt.subplots()\n",
    "plt.plot(test_df['opening_weekend_take'], test_df['domestic_gross'], 'r.', alpha=.25)\n",
    "plt.plot(test_df['opening_weekend_take'], test_preds, 'b-')\n",
    "ax.set_yscale('log')"
   ]
  },
  {
   "cell_type": "code",
   "execution_count": 39,
   "metadata": {
    "collapsed": false
   },
   "outputs": [
    {
     "data": {
      "image/png": "[encoded data removed]",
      "text/plain": [
       "<matplotlib.figure.Figure at 0x11ad07090>"
      ]
     },
     "metadata": {},
     "output_type": "display_data"
    }
   ],
   "source": [
    "_, (ax1, ax2) = plt.subplots(1,2,sharey=True, figsize=(12,5))\n",
    "ax1.hist(results.resid.values)\n",
    "\n",
    "manual_resid = test_df.domestic_gross.values - test_preds\n",
    "ax2.hist(manual_resid, color='red');"
   ]
  },
  {
   "cell_type": "markdown",
   "metadata": {},
   "source": [
    "### Modelling #5"
   ]
  },
  {
   "cell_type": "markdown",
   "metadata": {},
   "source": [
    "Build a model for predicting gross with multiple features, including budget. Plot a scatterplot with x=budget, y=gross, both for actual values and for predicted values. Predicted values will no longer neatly fall on a line. Why? What's happening?"
   ]
  },
  {
   "cell_type": "code",
   "execution_count": 40,
   "metadata": {
    "collapsed": false
   },
   "outputs": [
    {
     "name": "stdout",
     "output_type": "stream",
     "text": [
      "1574\n"
     ]
    }
   ],
   "source": [
    "mojo_movies = get_movies(\"../project_1/data/boxofficemojo\")\n",
    "mojo_df = pd.DataFrame(mojo_movies)\n",
    "\n",
    "mojo_df = mojo_df[[\"production_budget\", \"opening_weekend_take\", \"domestic_gross\"]]\n",
    "\n",
    "mojo_df = mojo_df.dropna() # axis=0, how=any\n",
    "print len(mojo_df)"
   ]
  },
  {
   "cell_type": "code",
   "execution_count": 41,
   "metadata": {
    "collapsed": false
   },
   "outputs": [
    {
     "data": {
      "text/plain": [
       "Index([u'production_budget', u'opening_weekend_take', u'domestic_gross'], dtype='object')"
      ]
     },
     "execution_count": 41,
     "metadata": {},
     "output_type": "execute_result"
    }
   ],
   "source": [
    "mojo_df.columns"
   ]
  },
  {
   "cell_type": "code",
   "execution_count": 42,
   "metadata": {
    "collapsed": false
   },
   "outputs": [
    {
     "name": "stdout",
     "output_type": "stream",
     "text": [
      "1180\n"
     ]
    }
   ],
   "source": [
    "num_examples = len(mojo_df)\n",
    "shuffled_indices = np.random.permutation(num_examples)\n",
    "\n",
    "num_train_examples = int(num_examples * .75)\n",
    "print num_train_examples\n",
    "\n",
    "train_df = mojo_df.iloc[shuffled_indices[:num_train_examples]]\n",
    "test_df  = mojo_df.iloc[shuffled_indices[num_train_examples:]]"
   ]
  },
  {
   "cell_type": "code",
   "execution_count": 43,
   "metadata": {
    "collapsed": false
   },
   "outputs": [
    {
     "name": "stdout",
     "output_type": "stream",
     "text": [
      "1574\n"
     ]
    }
   ],
   "source": [
    "print len(test_df) + len(train_df)"
   ]
  },
  {
   "cell_type": "code",
   "execution_count": 44,
   "metadata": {
    "collapsed": true
   },
   "outputs": [],
   "source": [
    "Y = train_df.domestic_gross\n",
    "X = sm.add_constant(train_df[[\"production_budget\", \"opening_weekend_take\"]])"
   ]
  },
  {
   "cell_type": "code",
   "execution_count": 45,
   "metadata": {
    "collapsed": false
   },
   "outputs": [
    {
     "data": {
      "text/html": [
       "<div>\n",
       "<table border=\"1\" class=\"dataframe\">\n",
       "  <thead>\n",
       "    <tr style=\"text-align: right;\">\n",
       "      <th></th>\n",
       "      <th>const</th>\n",
       "      <th>production_budget</th>\n",
       "      <th>opening_weekend_take</th>\n",
       "    </tr>\n",
       "  </thead>\n",
       "  <tbody>\n",
       "    <tr>\n",
       "      <th>293</th>\n",
       "      <td>1</td>\n",
       "      <td>60000000.0</td>\n",
       "      <td>38291056.0</td>\n",
       "    </tr>\n",
       "    <tr>\n",
       "      <th>2090</th>\n",
       "      <td>1</td>\n",
       "      <td>30000000.0</td>\n",
       "      <td>908446.0</td>\n",
       "    </tr>\n",
       "    <tr>\n",
       "      <th>1553</th>\n",
       "      <td>1</td>\n",
       "      <td>20000000.0</td>\n",
       "      <td>16300155.0</td>\n",
       "    </tr>\n",
       "    <tr>\n",
       "      <th>27</th>\n",
       "      <td>1</td>\n",
       "      <td>43000000.0</td>\n",
       "      <td>10310672.0</td>\n",
       "    </tr>\n",
       "    <tr>\n",
       "      <th>338</th>\n",
       "      <td>1</td>\n",
       "      <td>49000000.0</td>\n",
       "      <td>15129385.0</td>\n",
       "    </tr>\n",
       "  </tbody>\n",
       "</table>\n",
       "</div>"
      ],
      "text/plain": [
       "      const  production_budget  opening_weekend_take\n",
       "293       1         60000000.0            38291056.0\n",
       "2090      1         30000000.0              908446.0\n",
       "1553      1         20000000.0            16300155.0\n",
       "27        1         43000000.0            10310672.0\n",
       "338       1         49000000.0            15129385.0"
      ]
     },
     "execution_count": 45,
     "metadata": {},
     "output_type": "execute_result"
    }
   ],
   "source": [
    "X[:5]"
   ]
  },
  {
   "cell_type": "code",
   "execution_count": 46,
   "metadata": {
    "collapsed": false
   },
   "outputs": [
    {
     "data": {
      "image/png": "[encoded data removed]",
      "text/plain": [
       "<matplotlib.figure.Figure at 0x11b55ab90>"
      ]
     },
     "metadata": {},
     "output_type": "display_data"
    }
   ],
   "source": [
    "results = sm.OLS(Y, X).fit()\n",
    "test_preds = results.predict(test_df)\n",
    "\n",
    "# print results.summary()\n",
    "\n",
    "plt.scatter(train_df.production_budget, train_df.domestic_gross, color='b', alpha=.3)\n",
    "plt.scatter(test_df.production_budget.values, test_preds, color='r', alpha=.3)\n",
    "plt.xscale('log')\n",
    "plt.yscale('log')\n",
    "#plt.xlim(1e4, 1e9)\n",
    "#plt.ylim(1e4, 1e9)"
   ]
  },
  {
   "cell_type": "code",
   "execution_count": 47,
   "metadata": {
    "collapsed": false
   },
   "outputs": [
    {
     "data": {
      "image/png": "[encoded data removed]",
      "text/plain": [
       "<matplotlib.figure.Figure at 0x11ae179d0>"
      ]
     },
     "metadata": {},
     "output_type": "display_data"
    }
   ],
   "source": [
    "plt.boxplot(test_df.production_budget.values);"
   ]
  },
  {
   "cell_type": "code",
   "execution_count": 48,
   "metadata": {
    "collapsed": true
   },
   "outputs": [],
   "source": [
    "# it will jitter with a 3rd dimension (hence, not a line if you do it \"right\")\n",
    "# see below, for example"
   ]
  },
  {
   "cell_type": "markdown",
   "metadata": {},
   "source": [
    "### Data Viz. #1"
   ]
  },
  {
   "cell_type": "markdown",
   "metadata": {},
   "source": [
    "Fit three different regression models to your data (different feature sets). Plot all of them together on top of the real data. Add a legend so we can see which model is which."
   ]
  },
  {
   "cell_type": "code",
   "execution_count": 49,
   "metadata": {
    "collapsed": false
   },
   "outputs": [
    {
     "name": "stdout",
     "output_type": "stream",
     "text": [
      "1462\n"
     ]
    }
   ],
   "source": [
    "mojo_movies = get_movies(\"../project_1/data/boxofficemojo\")\n",
    "mojo_df = pd.DataFrame(mojo_movies)\n",
    "\n",
    "selected_features = [#'director', \n",
    "                     \"opening_per_theater\", \n",
    "                     \"opening_weekend_take\", \n",
    "                     \"production_budget\", \n",
    "                     'widest_release',\n",
    "                     'worldwide_gross',\n",
    "                     'domestic_gross']\n",
    "\n",
    "mojo_df = mojo_df[selected_features]\n",
    "\n",
    "\n",
    "mojo_df = mojo_df.dropna() # axis=0, how=any\n",
    "print len(mojo_df)"
   ]
  },
  {
   "cell_type": "code",
   "execution_count": 50,
   "metadata": {
    "collapsed": false
   },
   "outputs": [],
   "source": [
    "def makemodel(df ,target, features):\n",
    "    formula = \"%s ~ %s\" % (target_var, \"+\".join(features))\n",
    "    model_results = smf.ols(formula.encode('ascii'), data=df).fit()    \n",
    "    return model_results\n",
    "\n",
    "m1 = makemodel(mojo_df, 'domestic_gross', ['production_budget', 'widest_release'])\n",
    "m2 = makemodel(mojo_df, 'domestic_gross', ['opening_weekend_take', 'opening_per_theater'])\n",
    "m3 = makemodel(mojo_df, 'domestic_gross', ['production_budget', 'opening_weekend_take'])"
   ]
  },
  {
   "cell_type": "code",
   "execution_count": 51,
   "metadata": {
    "collapsed": false
   },
   "outputs": [
    {
     "data": {
      "image/png": "[encoded data removed]",
      "text/plain": [
       "<matplotlib.figure.Figure at 0x11b2fcc50>"
      ]
     },
     "metadata": {},
     "output_type": "display_data"
    }
   ],
   "source": [
    "plt.plot(mojo_df.opening_weekend_take, mojo_df.domestic_gross, 'ro', alpha=.4, label='actual')\n",
    "\n",
    "plt.plot(mojo_df.opening_weekend_take, m1.predict(), 'b.', alpha=.25, label=\"m1\")\n",
    "plt.plot(mojo_df.opening_weekend_take, m2.predict(), 'g.', alpha=.25, label=\"m2\")\n",
    "plt.plot(mojo_df.opening_weekend_take, m2.predict(), 'y.', alpha=.25, label=\"m3\")\n",
    "\n",
    "plt.legend();"
   ]
  },
  {
   "cell_type": "markdown",
   "metadata": {},
   "source": [
    "### Viz #2"
   ]
  },
  {
   "cell_type": "markdown",
   "metadata": {},
   "source": [
    "For a model that predicts either gross or opening weekend with the budget as the single feature, plot all the movies as points, plot the fitted line of the model, plot your model's best predictions for each movie in the dataset.\n",
    "\n",
    "See also next problem."
   ]
  },
  {
   "cell_type": "code",
   "execution_count": 52,
   "metadata": {
    "collapsed": false
   },
   "outputs": [
    {
     "data": {
      "text/plain": [
       "<Container object of 3 artists>"
      ]
     },
     "execution_count": 52,
     "metadata": {},
     "output_type": "execute_result"
    },
    {
     "data": {
      "image/png": "[encoded data removed]",
      "text/plain": [
       "<matplotlib.figure.Figure at 0x11e0d72d0>"
      ]
     },
     "metadata": {},
     "output_type": "display_data"
    }
   ],
   "source": [
    "m = makemodel(mojo_df, 'domestic_gross', ['production_budget'])\n",
    "\n",
    "plt.plot(mojo_df.domestic_gross, mojo_df.domestic_gross, 'r-')\n",
    "#plt.plot(mojo_df.domestic_gross, m.predict(), 'bo', alpha=.3)\n",
    "plt.errorbar(mojo_df.domestic_gross, m.predict(), yerr=np.sqrt(m.mse_resid), fmt='bo')\n"
   ]
  },
  {
   "cell_type": "markdown",
   "metadata": {},
   "source": [
    "### Viz. #3"
   ]
  },
  {
   "cell_type": "markdown",
   "metadata": {},
   "source": [
    "Continue from previous challenge. Calculate the mean standard error of your model. To each of your prediction points, add an errorbar the size of the mean square error."
   ]
  },
  {
   "cell_type": "code",
   "execution_count": 53,
   "metadata": {
    "collapsed": false
   },
   "outputs": [
    {
     "name": "stdout",
     "output_type": "stream",
     "text": [
      "3.57652889143e+15\n",
      "3.57652889143e+15\n",
      "True\n"
     ]
    }
   ],
   "source": [
    "mse = (mojo_df.domestic_gross - m.predict())**2/(len(mojo_df)-2) # degrees freedom thing\n",
    "print m.mse_resid\n",
    "print mse.sum()\n",
    "print np.allclose(m.mse_resid, mse.sum())"
   ]
  },
  {
   "cell_type": "code",
   "execution_count": 54,
   "metadata": {
    "collapsed": false
   },
   "outputs": [
    {
     "data": {
      "text/plain": [
       "<Container object of 3 artists>"
      ]
     },
     "execution_count": 54,
     "metadata": {},
     "output_type": "execute_result"
    },
    {
     "data": {
      "image/png": "[encoded data removed]",
      "text/plain": [
       "<matplotlib.figure.Figure at 0x11e2f9110>"
      ]
     },
     "metadata": {},
     "output_type": "display_data"
    }
   ],
   "source": [
    "plt.errorbar(mojo_df.domestic_gross, m.predict(), yerr=np.sqrt(m.mse_resid), fmt='o')"
   ]
  },
  {
   "cell_type": "markdown",
   "metadata": {},
   "source": [
    "### Viz. #4"
   ]
  },
  {
   "cell_type": "markdown",
   "metadata": {},
   "source": [
    "Try drawing the 95% confidence intervals, using `wls_prediction_std` from statsmodels. This page has an example to get you started."
   ]
  },
  {
   "cell_type": "code",
   "execution_count": 55,
   "metadata": {
    "collapsed": true
   },
   "outputs": [],
   "source": [
    "from statsmodels.sandbox.regression.predstd import wls_prediction_std"
   ]
  },
  {
   "cell_type": "code",
   "execution_count": 56,
   "metadata": {
    "collapsed": false
   },
   "outputs": [
    {
     "data": {
      "text/plain": [
       "[<matplotlib.lines.Line2D at 0x11f68b690>]"
      ]
     },
     "execution_count": 56,
     "metadata": {},
     "output_type": "execute_result"
    },
    {
     "data": {
      "image/png": "[encoded data removed]",
      "text/plain": [
       "<matplotlib.figure.Figure at 0x11f57d610>"
      ]
     },
     "metadata": {},
     "output_type": "display_data"
    }
   ],
   "source": [
    "m = makemodel(mojo_df, 'domestic_gross', ['production_budget'])\n",
    "\n",
    "plt.plot(mojo_df.production_budget, mojo_df.domestic_gross, 'ro', alpha=.3)\n",
    "plt.plot(mojo_df.production_budget, m.predict(), 'b-')\n",
    "\n",
    "prstd, lower, upper = wls_prediction_std(m)\n",
    "\n",
    "plt.plot(mojo_df.production_budget, lower, 'b--')\n",
    "plt.plot(mojo_df.production_budget, upper, 'b--')\n",
    "\n",
    "#plt.fill_between(mojo_df.production_budget, lower, upper, color='blue', alpha=.3)"
   ]
  },
  {
   "cell_type": "markdown",
   "metadata": {},
   "source": [
    "See also: \n",
    "  * http://stanford.edu/~mwaskom/software/seaborn/tutorial/regression.html\n",
    "  * http://stanford.edu/~mwaskom/software/seaborn/tutorial/aesthetics.html#aesthetics-tutorial"
   ]
  }
 ],
 "metadata": {
  "kernelspec": {
   "display_name": "Python 2",
   "language": "python",
   "name": "python2"
  },
  "language_info": {
   "codemirror_mode": {
    "name": "ipython",
    "version": 2
   },
   "file_extension": ".py",
   "mimetype": "text/x-python",
   "name": "python",
   "nbconvert_exporter": "python",
   "pygments_lexer": "ipython2",
   "version": "2.7.11"
  }
 },
 "nbformat": 4,
 "nbformat_minor": 0
}
